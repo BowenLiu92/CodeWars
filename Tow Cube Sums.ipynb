{
 "cells": [
  {
   "cell_type": "code",
   "execution_count": 1,
   "metadata": {
    "collapsed": true
   },
   "outputs": [],
   "source": [
    "from IPython.core.interactiveshell import InteractiveShell\n",
    "InteractiveShell.ast_node_interactivity = \"all\""
   ]
  },
  {
   "cell_type": "markdown",
   "metadata": {},
   "source": [
    "# Most Clever Answer on Codewars"
   ]
  },
  {
   "cell_type": "code",
   "execution_count": null,
   "metadata": {
    "collapsed": true
   },
   "outputs": [],
   "source": [
    "def has_two_cube_sums(n):\n",
    "    cubic_list = [i**3 for i in range(1, int((n)**(1./3.)) + 1)]\n",
    "    return sum([(n != 2*c) and ((n-c) in cubic_list) for c in cubic_list]) > 3"
   ]
  },
  {
   "cell_type": "code",
   "execution_count": 7,
   "metadata": {},
   "outputs": [
    {
     "data": {
      "text/plain": [
       "[True,\n",
       " False,\n",
       " False,\n",
       " False,\n",
       " False,\n",
       " False,\n",
       " False,\n",
       " False,\n",
       " True,\n",
       " True,\n",
       " False,\n",
       " True]"
      ]
     },
     "execution_count": 7,
     "metadata": {},
     "output_type": "execute_result"
    }
   ],
   "source": [
    "#Why does it work?\n",
    "\n",
    "def test_clever(n):\n",
    "    cubic_list = [i**3 for i in range(1, int((n)**(1./3.)) + 1)]\n",
    "    return ([(n != 2*c) and ((n-c) in cubic_list) for c in cubic_list]) \n",
    "\n",
    "test_clever(1729)\n",
    "\n",
    "#Cubic list is the list of all the cubic of the integers up to closest cubic root + 1\n",
    "#Oh well this is so damn smart"
   ]
  },
  {
   "cell_type": "code",
   "execution_count": 6,
   "metadata": {},
   "outputs": [
    {
     "data": {
      "text/plain": [
       "[1, 8, 27, 64, 125, 216, 343, 512, 729, 1000, 1331, 1728]"
      ]
     },
     "execution_count": 6,
     "metadata": {},
     "output_type": "execute_result"
    }
   ],
   "source": [
    "[i**3 for i in range(1, int((1729)**(1./3.)) + 1)]"
   ]
  },
  {
   "cell_type": "markdown",
   "metadata": {},
   "source": [
    "# My Process and Result"
   ]
  },
  {
   "cell_type": "code",
   "execution_count": 2,
   "metadata": {},
   "outputs": [
    {
     "data": {
      "text/plain": [
       "12.002314368427683"
      ]
     },
     "execution_count": 2,
     "metadata": {},
     "output_type": "execute_result"
    },
    {
     "data": {
      "text/plain": [
       "4.0"
      ]
     },
     "execution_count": 2,
     "metadata": {},
     "output_type": "execute_result"
    }
   ],
   "source": [
    "#List all the numbers smaller than the number's cubic root\n",
    "1729**(1/3)\n",
    "16**(1/2)"
   ]
  },
  {
   "cell_type": "code",
   "execution_count": 3,
   "metadata": {},
   "outputs": [
    {
     "data": {
      "text/plain": [
       "[0, 1, 2, 3, 4, 5, 6, 7, 8, 9, 10, 11, 12, 13]"
      ]
     },
     "execution_count": 3,
     "metadata": {},
     "output_type": "execute_result"
    },
    {
     "data": {
      "text/plain": [
       "[0, 2, 3, 4, 5, 6, 7, 8, 9, 10, 11, 12, 13]"
      ]
     },
     "execution_count": 3,
     "metadata": {},
     "output_type": "execute_result"
    }
   ],
   "source": [
    "#The range I need \n",
    "n = 1729\n",
    "\n",
    "gList = list(range(round(n**(1/3))+2))\n",
    "gList\n",
    "\n",
    "del gList[1]\n",
    "gList"
   ]
  },
  {
   "cell_type": "code",
   "execution_count": 4,
   "metadata": {
    "collapsed": true
   },
   "outputs": [],
   "source": [
    "def find_cs_numbers(in_list, n):\n",
    "    for i in range(len(in_list)):\n",
    "        for j in range(i+1, len(in_list)):\n",
    "            if i**3 + j**3 == n:\n",
    "                return [f for e, f in enumerate(in_list) if f not in [i, j]]"
   ]
  },
  {
   "cell_type": "code",
   "execution_count": 5,
   "metadata": {},
   "outputs": [
    {
     "data": {
      "text/plain": [
       "[0, 2, 3, 4, 5, 6, 7, 8, 11, 13]"
      ]
     },
     "execution_count": 5,
     "metadata": {},
     "output_type": "execute_result"
    }
   ],
   "source": [
    "gList = list(range(round(n**(1/3))+2))\n",
    "\n",
    "new_list = find_cs_numbers(gList, 1729)\n",
    "\n",
    "find_cs_numbers(new_list, 1729)"
   ]
  },
  {
   "cell_type": "code",
   "execution_count": 18,
   "metadata": {
    "collapsed": true
   },
   "outputs": [],
   "source": [
    "def has_two_cube_sums(n):\n",
    "    gList = list(range(round(n**(1/3))+2))\n",
    "    def find_cs_numbers(in_list, n):\n",
    "        for i in range(len(in_list)):\n",
    "            for j in range(i+1, len(in_list)):\n",
    "                if i**3 + j**3 == n:\n",
    "                    return [f for e, f in enumerate(in_list) if f not in [i, j]]\n",
    "    return len(find_cs_numbers(gList, n)) != len(find_cs_numbers(find_cs_numbers(gList, n), n))"
   ]
  },
  {
   "cell_type": "code",
   "execution_count": 15,
   "metadata": {
    "collapsed": true
   },
   "outputs": [],
   "source": [
    "#Test what is wrong\n",
    "def has_two_cube_sums(n):\n",
    "    gList = list(range(round(n**(1/3))+2))\n",
    "    def find_cs_list(in_list, n):\n",
    "        for i in range(len(in_list)):\n",
    "            for j in range(i+1, len(in_list)):\n",
    "                if i**3 + j**3 == n:\n",
    "                    in_list = [f for e, f in enumerate(in_list) if f not in [i, j]]\n",
    "        return in_list\n",
    "    return len(find_cs_list(gList, n)) != len(find_cs_list(find_cs_list(gList, n), n))"
   ]
  },
  {
   "cell_type": "code",
   "execution_count": 22,
   "metadata": {},
   "outputs": [
    {
     "data": {
      "text/plain": [
       "[0, 2, 3, 4, 5, 6, 7, 8, 11, 13]"
      ]
     },
     "execution_count": 22,
     "metadata": {},
     "output_type": "execute_result"
    },
    {
     "data": {
      "text/plain": [
       "[0, 2, 3, 4, 5, 6, 7, 8, 11, 13]"
      ]
     },
     "execution_count": 22,
     "metadata": {},
     "output_type": "execute_result"
    }
   ],
   "source": [
    "#Test why the new function doesn't work\n",
    "\n",
    "def find_cs_list(in_list, n):\n",
    "    for i in range(len(in_list)):\n",
    "        for j in range(i+1, len(in_list)):\n",
    "            if i**3 + j**3 == n:\n",
    "                in_list = [f for e, f in enumerate(in_list) if f not in [i, j]]\n",
    "    return in_list\n",
    "g1 = list(range(round(1729**(1/3))+2))\n",
    "find_cs_list(g1, 1729)\n",
    "find_cs_list(find_cs_list(g1, 1729), n)\n",
    "\n",
    "#This one will keep going until it gets all the numbers"
   ]
  },
  {
   "cell_type": "code",
   "execution_count": 23,
   "metadata": {},
   "outputs": [
    {
     "data": {
      "text/plain": [
       "[0, 2, 3, 4, 5, 6, 7, 8, 9, 10, 11, 13]"
      ]
     },
     "execution_count": 23,
     "metadata": {},
     "output_type": "execute_result"
    },
    {
     "data": {
      "text/plain": [
       "[0, 2, 3, 4, 5, 6, 7, 8, 11, 13]"
      ]
     },
     "execution_count": 23,
     "metadata": {},
     "output_type": "execute_result"
    }
   ],
   "source": [
    "#Same thing. Edited a little bit.\n",
    "\n",
    "def find_cs_list(in_list, n):\n",
    "    for i in range(len(in_list)):\n",
    "        for j in range(i+1, len(in_list)):\n",
    "            if i**3 + j**3 == n:\n",
    "                return[f for e, f in enumerate(in_list) if f not in [i, j]]\n",
    "    return in_list\n",
    "g1 = list(range(round(1729**(1/3))+2))\n",
    "find_cs_list(g1, 1729)\n",
    "find_cs_list(find_cs_list(g1, 1729), n)\n",
    "\n",
    "#This one will keep going until it gets all the numbers"
   ]
  },
  {
   "cell_type": "code",
   "execution_count": 30,
   "metadata": {
    "collapsed": true
   },
   "outputs": [],
   "source": [
    "#Final Function\n",
    "def has_two_cube_sums(n):\n",
    "    gList = list(range(int(n**(1/3))+2))\n",
    "    def find_cs_list(in_list, n):\n",
    "        for i in range(len(in_list)):\n",
    "            for j in range(i+1, len(in_list)):\n",
    "                if i**3 + j**3 == n:\n",
    "                    return [f for e, f in enumerate(in_list) if f not in [i, j]]\n",
    "        return in_list\n",
    "    return len(find_cs_list(gList, n)) != len(find_cs_list(find_cs_list(gList, n), n))"
   ]
  },
  {
   "cell_type": "code",
   "execution_count": 57,
   "metadata": {},
   "outputs": [
    {
     "name": "stdout",
     "output_type": "stream",
     "text": [
      "85 195\n",
      "85 195\n",
      "85 195\n"
     ]
    },
    {
     "data": {
      "text/plain": [
       "(200, 200)"
      ]
     },
     "execution_count": 57,
     "metadata": {},
     "output_type": "execute_result"
    },
    {
     "name": "stdout",
     "output_type": "stream",
     "text": [
      "1 12\n",
      "1 12\n",
      "9 10\n"
     ]
    },
    {
     "data": {
      "text/plain": [
       "(12, 10)"
      ]
     },
     "execution_count": 57,
     "metadata": {},
     "output_type": "execute_result"
    }
   ],
   "source": [
    "#CodeWars is not getting it correctly. Why not? \n",
    "def test2(n):\n",
    "    gList = list(range(int(n**(1/3))+2))\n",
    "    def x(in_list, n):\n",
    "        for i in range(len(in_list)):\n",
    "            for j in range(i+1, len(in_list)):\n",
    "                if i**3 + j**3 == n:\n",
    "                    print(i, j)\n",
    "                    return ([f for e, f in enumerate(in_list) if f not in [i, j]])\n",
    "        return in_list\n",
    "    return len(x(gList, n)), len(x(x(gList, n), n))\n",
    "test2(8029000)\n",
    "test2(1729)"
   ]
  },
  {
   "cell_type": "code",
   "execution_count": null,
   "metadata": {
    "collapsed": true
   },
   "outputs": [],
   "source": [
    "def find_cs_list(in_list, n):\n",
    "    for i in range(len(in_list)):\n",
    "        for j in range(i+1, len(in_list)):\n",
    "            if i**3 + j**3 == n:\n",
    "                return [f for e, f in enumerate(in_list) if f not in [i, j]]\n",
    "    return in_list"
   ]
  },
  {
   "cell_type": "code",
   "execution_count": 52,
   "metadata": {
    "collapsed": true
   },
   "outputs": [],
   "source": [
    "#This is much easier \n",
    "def has_two_cube_sums(n):\n",
    "    r = []\n",
    "    in_list = list(range(int(n**(1./3))+2))\n",
    "    for i in range(len(in_list)):\n",
    "        for j in range(i+1, len(in_list)):\n",
    "            if i**3 + j**3 == n:\n",
    "                r.append([i, j])            \n",
    "    return len(r) > 1"
   ]
  },
  {
   "cell_type": "code",
   "execution_count": 50,
   "metadata": {},
   "outputs": [
    {
     "data": {
      "text/plain": [
       "221.51922985098392"
      ]
     },
     "execution_count": 50,
     "metadata": {},
     "output_type": "execute_result"
    },
    {
     "data": {
      "text/plain": [
       "True"
      ]
     },
     "execution_count": 50,
     "metadata": {},
     "output_type": "execute_result"
    },
    {
     "name": "stdout",
     "output_type": "stream",
     "text": [
      "[0, 1, 2, 3, 4, 5, 6, 7, 8, 9, 10, 11, 12, 13, 14, 15, 16, 17, 18, 19, 20, 21, 22, 23, 24, 25, 26, 27, 28, 29, 30, 31, 32, 33, 34, 35, 36, 37, 38, 39, 40, 41, 42, 43, 44, 45, 46, 47, 48, 49, 50, 51, 52, 53, 54, 55, 56, 57, 58, 59, 60, 61, 62, 63, 64, 65, 66, 67, 68, 69, 70, 71, 72, 73, 74, 75, 76, 77, 78, 79, 80, 81, 82, 83, 84, 86, 87, 88, 89, 90, 91, 92, 93, 94, 95, 96, 97, 98, 99, 100, 101, 102, 103, 104, 105, 106, 107, 108, 109, 110, 111, 112, 113, 114, 115, 116, 117, 118, 119, 120, 121, 122, 123, 124, 125, 126, 127, 128, 129, 130, 131, 132, 133, 134, 135, 136, 137, 138, 139, 140, 141, 142, 143, 144, 145, 146, 147, 148, 149, 150, 151, 152, 153, 154, 155, 156, 157, 158, 159, 160, 161, 162, 163, 164, 165, 166, 167, 168, 169, 170, 171, 172, 173, 174, 175, 176, 177, 178, 179, 180, 181, 182, 183, 184, 185, 186, 187, 188, 189, 190, 191, 192, 193, 194, 196, 197, 198, 199, 200, 201]\n",
      "[0, 1, 2, 3, 4, 5, 6, 7, 8, 9, 10, 11, 12, 13, 14, 15, 16, 17, 18, 19, 20, 21, 22, 23, 24, 25, 26, 27, 28, 29, 30, 31, 32, 33, 34, 35, 36, 37, 38, 39, 40, 41, 42, 43, 44, 45, 46, 47, 48, 49, 50, 51, 52, 53, 54, 55, 56, 57, 58, 59, 60, 61, 62, 63, 64, 65, 66, 67, 68, 69, 70, 71, 72, 73, 74, 75, 76, 77, 78, 79, 80, 81, 82, 83, 84, 86, 87, 88, 89, 90, 91, 92, 93, 94, 95, 96, 97, 98, 99, 100, 101, 102, 103, 104, 105, 106, 107, 108, 109, 110, 111, 112, 113, 114, 115, 116, 117, 118, 119, 120, 121, 122, 123, 124, 125, 126, 127, 128, 129, 130, 131, 132, 133, 134, 135, 136, 137, 138, 139, 140, 141, 142, 143, 144, 145, 146, 147, 148, 149, 150, 151, 152, 153, 154, 155, 156, 157, 158, 159, 160, 161, 162, 163, 164, 165, 166, 167, 168, 169, 170, 171, 172, 173, 174, 175, 176, 177, 178, 179, 180, 181, 182, 183, 184, 185, 186, 187, 188, 189, 190, 191, 192, 193, 194, 196, 197, 198, 199, 200, 201]\n"
     ]
    },
    {
     "data": {
      "text/plain": [
       "(200, 200)"
      ]
     },
     "execution_count": 50,
     "metadata": {},
     "output_type": "execute_result"
    },
    {
     "data": {
      "text/plain": [
       "202"
      ]
     },
     "execution_count": 50,
     "metadata": {},
     "output_type": "execute_result"
    }
   ],
   "source": [
    "10870119**(1/3)\n",
    "def check1(n):\n",
    "    r = []\n",
    "    in_list = list(range(int(n**(1/3))+2))\n",
    "    for i in range(len(in_list)):\n",
    "        for j in range(i+1, len(in_list)):\n",
    "            if i**3 + j**3 == n:\n",
    "                r.append([i, j])\n",
    "                \n",
    "    return len(r) > 1\n",
    "check1(8029000)\n",
    "has_two_cube_sums(8029000)\n",
    "len(list(range(int(8029000**(1/3))+2)))\n",
    "\n",
    "#Why the heck doesn't it get the second pair?"
   ]
  },
  {
   "cell_type": "code",
   "execution_count": 35,
   "metadata": {},
   "outputs": [
    {
     "name": "stdout",
     "output_type": "stream",
     "text": [
      "[0, 2, 3, 4, 5, 6, 7, 8, 9, 10, 11, 13]\n",
      "[0, 2, 3, 4, 5, 6, 7, 8, 11, 13]\n"
     ]
    },
    {
     "data": {
      "text/plain": [
       "True"
      ]
     },
     "execution_count": 35,
     "metadata": {},
     "output_type": "execute_result"
    },
    {
     "name": "stdout",
     "output_type": "stream",
     "text": [
      "[0, 1, 3, 4, 5, 6, 7, 8, 9, 10, 11, 12, 13, 14, 15, 17]\n",
      "[0, 1, 3, 4, 5, 6, 7, 8, 10, 11, 12, 13, 14, 17]\n"
     ]
    },
    {
     "data": {
      "text/plain": [
       "True"
      ]
     },
     "execution_count": 35,
     "metadata": {},
     "output_type": "execute_result"
    },
    {
     "name": "stdout",
     "output_type": "stream",
     "text": [
      "[0, 1, 2, 3, 4]\n",
      "[0, 1, 2, 3, 4]\n"
     ]
    },
    {
     "data": {
      "text/plain": [
       "False"
      ]
     },
     "execution_count": 35,
     "metadata": {},
     "output_type": "execute_result"
    }
   ],
   "source": [
    "has_two_cube_sums(1729)\n",
    "has_two_cube_sums(4104)\n",
    "has_two_cube_sums(42)"
   ]
  },
  {
   "cell_type": "code",
   "execution_count": 16,
   "metadata": {},
   "outputs": [
    {
     "data": {
      "text/plain": [
       "False"
      ]
     },
     "execution_count": 16,
     "metadata": {},
     "output_type": "execute_result"
    },
    {
     "data": {
      "text/plain": [
       "False"
      ]
     },
     "execution_count": 16,
     "metadata": {},
     "output_type": "execute_result"
    },
    {
     "data": {
      "text/plain": [
       "False"
      ]
     },
     "execution_count": 16,
     "metadata": {},
     "output_type": "execute_result"
    }
   ],
   "source": [
    "has_two_cube_sums(1729)\n",
    "has_two_cube_sums(4104)\n",
    "has_two_cube_sums(42)"
   ]
  }
 ],
 "metadata": {
  "kernelspec": {
   "display_name": "Python 3",
   "language": "python",
   "name": "python3"
  },
  "language_info": {
   "codemirror_mode": {
    "name": "ipython",
    "version": 3
   },
   "file_extension": ".py",
   "mimetype": "text/x-python",
   "name": "python",
   "nbconvert_exporter": "python",
   "pygments_lexer": "ipython3",
   "version": "3.6.0"
  }
 },
 "nbformat": 4,
 "nbformat_minor": 2
}
