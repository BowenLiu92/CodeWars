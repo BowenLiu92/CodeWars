{
 "cells": [
  {
   "cell_type": "code",
   "execution_count": 1,
   "metadata": {
    "collapsed": true
   },
   "outputs": [],
   "source": [
    "from IPython.core.interactiveshell import InteractiveShell\n",
    "InteractiveShell.ast_node_interactivity = \"all\""
   ]
  },
  {
   "cell_type": "code",
   "execution_count": null,
   "metadata": {
    "collapsed": true
   },
   "outputs": [],
   "source": []
  },
  {
   "cell_type": "code",
   "execution_count": null,
   "metadata": {
    "collapsed": true
   },
   "outputs": [],
   "source": []
  },
  {
   "cell_type": "markdown",
   "metadata": {},
   "source": [
    "# My Working Progress and Solution"
   ]
  },
  {
   "cell_type": "code",
   "execution_count": 5,
   "metadata": {
    "collapsed": false
   },
   "outputs": [
    {
     "data": {
      "text/plain": [
       "['1000.00!=', '', '125 Market !=:125.45']"
      ]
     },
     "execution_count": 5,
     "metadata": {},
     "output_type": "execute_result"
    }
   ],
   "source": [
    "test = \"\"\"1000.00!=\n",
    "\n",
    "125 Market !=:125.45\n",
    "126 Hardware =34.95\n",
    "127 Video! 7.45\n",
    "128 Book :14.32\n",
    "129 Gasoline ::16.10\n",
    "\"\"\"\n",
    "\n",
    "L1 = test.splitlines()\n",
    "L1[0:3]"
   ]
  },
  {
   "cell_type": "code",
   "execution_count": 8,
   "metadata": {
    "collapsed": false,
    "scrolled": true
   },
   "outputs": [
    {
     "data": {
      "text/plain": [
       "['1000.00',\n",
       " '125 Market 125.45',\n",
       " '126 Hardware 34.95',\n",
       " '127 Video 7.45',\n",
       " '128 Book 14.32',\n",
       " '129 Gasoline 16.10']"
      ]
     },
     "execution_count": 8,
     "metadata": {},
     "output_type": "execute_result"
    }
   ],
   "source": [
    "[e for e in I1 if e]"
   ]
  },
  {
   "cell_type": "code",
   "execution_count": 46,
   "metadata": {
    "collapsed": false,
    "scrolled": true
   },
   "outputs": [
    {
     "data": {
      "text/plain": [
       "['1000.00',\n",
       " '125 Market 125.45',\n",
       " '126 Hardware 34.95',\n",
       " '127 Video 7.45',\n",
       " '128 Book 14.32',\n",
       " '129 Gasoline 16.10']"
      ]
     },
     "execution_count": 46,
     "metadata": {},
     "output_type": "execute_result"
    }
   ],
   "source": [
    "#Cleaning Process\n",
    "\n",
    "I1 = [''.join([i for i in e if i.isalpha() or i.isdigit() or i == '.' or i == ' ']) for e in L1 if e]\n",
    "I1"
   ]
  },
  {
   "cell_type": "code",
   "execution_count": 29,
   "metadata": {
    "collapsed": false
   },
   "outputs": [
    {
     "data": {
      "text/plain": [
       "[1000.0, 125.45, 34.95, 7.45, 14.32, 16.1]"
      ]
     },
     "execution_count": 29,
     "metadata": {},
     "output_type": "execute_result"
    }
   ],
   "source": [
    "#Calculation Process\n",
    "#The number to delete is always the last number\n",
    "\n",
    "c1 = [float(e.split(' ')[-1]) for e in I1]\n",
    "c1"
   ]
  },
  {
   "cell_type": "code",
   "execution_count": 27,
   "metadata": {
    "collapsed": false,
    "scrolled": true
   },
   "outputs": [
    {
     "data": {
      "text/plain": [
       "[874.55, 90.5, 27.500000000000004, -6.87, -1.7800000000000011]"
      ]
     },
     "execution_count": 27,
     "metadata": {},
     "output_type": "execute_result"
    }
   ],
   "source": [
    "#Minus one by one\n",
    "M1 = [float(c1[i]) - float(c1[i+1]) for i in (range(len(c1) - 1))]\n",
    "M1"
   ]
  },
  {
   "cell_type": "code",
   "execution_count": 52,
   "metadata": {
    "collapsed": false,
    "scrolled": true
   },
   "outputs": [
    {
     "data": {
      "text/plain": [
       "[874.55, 839.6, 832.15, 817.83, 801.73]"
      ]
     },
     "execution_count": 52,
     "metadata": {},
     "output_type": "execute_result"
    }
   ],
   "source": [
    "#Minus the sum of the first i elements. Balances by step.\n",
    "BalanceStep = [round((c1[0] - sum(c1[1:i+1])), 2) for i in range(1, len(c1))]\n",
    "BalanceStep"
   ]
  },
  {
   "cell_type": "code",
   "execution_count": 61,
   "metadata": {
    "collapsed": false
   },
   "outputs": [
    {
     "data": {
      "text/plain": [
       "'1.50'"
      ]
     },
     "execution_count": 61,
     "metadata": {},
     "output_type": "execute_result"
    },
    {
     "data": {
      "text/plain": [
       "['874.55', '839.60', '832.15', '817.83', '801.73']"
      ]
     },
     "execution_count": 61,
     "metadata": {},
     "output_type": "execute_result"
    }
   ],
   "source": [
    "#Keep trailing zero \n",
    "\"{:.2f}\".format(1.5)\n",
    "BalanceStep = [\"{:.2f}\".format(round((c1[0] - sum(c1[1:i+1])), 2)) for i in range(1, len(c1))]\n",
    "BalanceStep"
   ]
  },
  {
   "cell_type": "code",
   "execution_count": 69,
   "metadata": {
    "collapsed": false
   },
   "outputs": [
    {
     "data": {
      "text/plain": [
       "198.27"
      ]
     },
     "execution_count": 69,
     "metadata": {},
     "output_type": "execute_result"
    }
   ],
   "source": [
    "round(c1[0] - float(BalanceStep[-1]), 2)"
   ]
  },
  {
   "cell_type": "code",
   "execution_count": 96,
   "metadata": {
    "collapsed": false,
    "scrolled": true
   },
   "outputs": [
    {
     "data": {
      "text/plain": [
       "['Total expense 198.27', 'Average expense 39.65']"
      ]
     },
     "execution_count": 96,
     "metadata": {},
     "output_type": "execute_result"
    }
   ],
   "source": [
    "#Expense wise\n",
    "Expense = ['Total expense '+\"{:.2f}\".format(round(c1[0] - float(BalanceStep[-1]), 2)), \n",
    "           'Average expense ' + '{:.2f}'.format(round((c1[0] - float(BalanceStep[-1]))/len(BalanceStep), 2))]\n",
    "Expense"
   ]
  },
  {
   "cell_type": "code",
   "execution_count": 97,
   "metadata": {
    "collapsed": false
   },
   "outputs": [
    {
     "data": {
      "text/plain": [
       "'39.65'"
      ]
     },
     "execution_count": 97,
     "metadata": {},
     "output_type": "execute_result"
    },
    {
     "data": {
      "text/plain": [
       "'39.60'"
      ]
     },
     "execution_count": 97,
     "metadata": {},
     "output_type": "execute_result"
    }
   ],
   "source": [
    "#Rounding error checking\n",
    "'{:.2f}'.format(round((c1[0] - float(BalanceStep[-1]))/len(BalanceStep), 2))\n"
   ]
  },
  {
   "cell_type": "code",
   "execution_count": 112,
   "metadata": {
    "collapsed": false,
    "scrolled": true
   },
   "outputs": [
    {
     "data": {
      "text/plain": [
       "['1000.00',\n",
       " '125 Market 125.45',\n",
       " '126 Hardware 34.95',\n",
       " '127 Video 7.45',\n",
       " '128 Book 14.32',\n",
       " '129 Gasoline 16.10']"
      ]
     },
     "execution_count": 112,
     "metadata": {},
     "output_type": "execute_result"
    }
   ],
   "source": [
    "#Cleaning Process\n",
    "\n",
    "I1 = [''.join([i for i in e if i.isalpha() or i.isdigit() or i == '.' or i == ' ']) for e in L1 if e]\n",
    "I1"
   ]
  },
  {
   "cell_type": "code",
   "execution_count": 76,
   "metadata": {
    "collapsed": false,
    "scrolled": true
   },
   "outputs": [
    {
     "data": {
      "text/plain": [
       "['Original Balance: 1000.00',\n",
       " '125 Market 125.45 Balance 874.55',\n",
       " '126 Hardware 34.95 Balance 839.60',\n",
       " '127 Video 7.45 Balance 832.15',\n",
       " '128 Book 14.32 Balance 817.83',\n",
       " '129 Gasoline 16.10 Balance 801.73']"
      ]
     },
     "execution_count": 76,
     "metadata": {},
     "output_type": "execute_result"
    }
   ],
   "source": [
    "#Change the first line\n",
    "I1[0] = 'Original Balance: ' + I1[0]\n",
    "\n",
    "#Change the balance body\n",
    "I1[1:] = list(map(lambda x, y: x +' Balance '+ y, I1[1:], BalanceStep ))\n",
    "\n",
    "I1"
   ]
  },
  {
   "cell_type": "code",
   "execution_count": 105,
   "metadata": {
    "collapsed": true
   },
   "outputs": [],
   "source": [
    "#Write the function here:\n",
    "\n",
    "def balance(book):\n",
    "    #Split by lines\n",
    "    L1 = book.splitlines()\n",
    "    #First step is to clean it\n",
    "    I1 = [''.join([i for i in e if i.isalpha() or i.isdigit() or i == '.' or i == ' ']) for e in L1 if e]\n",
    "    #Expense for each step\n",
    "    c1 = [float(e.split(' ')[-1]) for e in I1]\n",
    "    #Ending balance for each step and keep trailing zero\n",
    "    BalanceStep = [\"{:.2f}\".format(round((c1[0] - sum(c1[1:i+1])), 2)) for i in range(1, len(c1))]\n",
    "    #Expense\n",
    "    Expense = ['Total expense  '+\"{:.2f}\".format(round(c1[0] - float(BalanceStep[-1]), 2)), \n",
    "           'Average expense  ' + '{:.2f}'.format(round((c1[0] - float(BalanceStep[-1]))/len(BalanceStep), 2))]\n",
    "    #Change the first line\n",
    "    I1[0] = 'Original Balance: ' + I1[0]\n",
    "    #Change the balance body \n",
    "    I1[1:] = list(map(lambda x, y: x +' Balance '+ y, I1[1:], BalanceStep ))\n",
    "    \n",
    "    #Add the expense\n",
    "    result = '\\r\\n'.join(I1 + Expense)\n",
    "    return result"
   ]
  },
  {
   "cell_type": "code",
   "execution_count": 123,
   "metadata": {
    "collapsed": false
   },
   "outputs": [
    {
     "data": {
      "text/plain": [
       "['1000.00',\n",
       " '125 Market 125.45',\n",
       " '126 Hardware 34.95',\n",
       " '127 Video 7.45',\n",
       " '128 Book 14.32',\n",
       " '129 Gasoline 16.10']"
      ]
     },
     "execution_count": 123,
     "metadata": {},
     "output_type": "execute_result"
    },
    {
     "data": {
      "text/plain": [
       "['1000.00', '125.45', '34.95', '7.45', '14.32', '16.10']"
      ]
     },
     "execution_count": 123,
     "metadata": {},
     "output_type": "execute_result"
    },
    {
     "data": {
      "text/plain": [
       "[[],\n",
       " ['125', 'Market'],\n",
       " ['126', 'Hardware'],\n",
       " ['127', 'Video'],\n",
       " ['128', 'Book'],\n",
       " ['129', 'Gasoline']]"
      ]
     },
     "execution_count": 123,
     "metadata": {},
     "output_type": "execute_result"
    }
   ],
   "source": [
    "#Shall change the expense in each step to two decimal degrees as well.\n",
    "I1 = [''.join([i for i in e if i.isalpha() or i.isdigit() or i == '.' or i == ' ']) for e in L1 if e]\n",
    "I1\n",
    "[e.split(' ')[-1] for e in I1]\n",
    "#The cleaning part\n",
    "[e.split(' ')[:-1] for e in I1]"
   ]
  },
  {
   "cell_type": "code",
   "execution_count": 133,
   "metadata": {
    "collapsed": false
   },
   "outputs": [
    {
     "data": {
      "text/plain": [
       "['1233.00',\n",
       " '125 Hardware 24.8',\n",
       " '123 Flowers 93.5',\n",
       " '127 Meat 120.90',\n",
       " '120 Picture 34.00',\n",
       " '124 Gasoline 11.00',\n",
       " '123 Photos 71.4',\n",
       " '122 Picture 93.5',\n",
       " '132 Tyres 19.00',\n",
       " '129 Stamps 13.6',\n",
       " '129 Fruits 17.6',\n",
       " '129 Market 128.00',\n",
       " '121 Gasoline 13.6']"
      ]
     },
     "execution_count": 133,
     "metadata": {},
     "output_type": "execute_result"
    },
    {
     "data": {
      "text/plain": [
       "['1233.00',\n",
       " '24.80',\n",
       " '93.50',\n",
       " '120.90',\n",
       " '34.00',\n",
       " '11.00',\n",
       " '71.40',\n",
       " '93.50',\n",
       " '19.00',\n",
       " '13.60',\n",
       " '17.60',\n",
       " '128.00',\n",
       " '13.60']"
      ]
     },
     "execution_count": 133,
     "metadata": {},
     "output_type": "execute_result"
    },
    {
     "data": {
      "text/plain": [
       "[' 1233.00',\n",
       " '125 Hardware 24.80',\n",
       " '123 Flowers 93.50',\n",
       " '127 Meat 120.90',\n",
       " '120 Picture 34.00',\n",
       " '124 Gasoline 11.00',\n",
       " '123 Photos 71.40',\n",
       " '122 Picture 93.50',\n",
       " '132 Tyres 19.00',\n",
       " '129 Stamps 13.60',\n",
       " '129 Fruits 17.60',\n",
       " '129 Market 128.00',\n",
       " '121 Gasoline 13.60']"
      ]
     },
     "execution_count": 133,
     "metadata": {},
     "output_type": "execute_result"
    }
   ],
   "source": [
    "b2=\"\"\"1233.00\n",
    "125 Hardware;! 24.8?;\n",
    "123 Flowers 93.5\n",
    "127 Meat 120.90\n",
    "120 Picture 34.00\n",
    "124 Gasoline 11.00\n",
    "123 Photos;! 71.4?;\n",
    "122 Picture 93.5\n",
    "132 Tyres;! 19.00,?;\n",
    "129 Stamps 13.6\n",
    "129 Fruits{} 17.6\n",
    "129 Market;! 128.00?;\n",
    "121 Gasoline;! 13.6?;\"\"\"\n",
    "L2 = b2.splitlines()\n",
    "I2 = [''.join([i for i in e if i.isalpha() or i.isdigit() or i == '.' or i == ' ']) for e in L2 if e]\n",
    "I2\n",
    "['{:.2f}'.format(float(e.split(' ')[-1])) for e in I2]\n",
    "\n",
    "#Try to clean this part in one line\n",
    "[' '.join(e.split(' ')[:-1]) +' ' + '{:.2f}'.format(float(e.split(' ')[-1])) for e in I2]"
   ]
  },
  {
   "cell_type": "code",
   "execution_count": 137,
   "metadata": {
    "collapsed": true
   },
   "outputs": [],
   "source": [
    "#Final Change\n",
    "def balance(book):\n",
    "    #Split by lines\n",
    "    L1 = book.splitlines()\n",
    "    #First step is to clean it\n",
    "    \n",
    "    #Delete any unnecessary character\n",
    "    I1 = [''.join([i for i in e if i.isalpha() or i.isdigit() or i == '.' or i == ' ']) for e in L1 if e]\n",
    "    #Format the expense of each line to 2 digits\n",
    "    I1 = [' '.join(e.split(' ')[:-1]) +' ' + '{:.2f}'.format(float(e.split(' ')[-1])) for e in I1]\n",
    "    #Expense for each step\n",
    "    c1 = [float(e.split(' ')[-1]) for e in I1]\n",
    "    #Ending balance for each step and keep trailing zero\n",
    "    BalanceStep = [\"{:.2f}\".format(round((c1[0] - sum(c1[1:i+1])), 2)) for i in range(1, len(c1))]\n",
    "    #Expense\n",
    "    Expense = ['Total expense  '+\"{:.2f}\".format(round(c1[0] - float(BalanceStep[-1]), 2)), \n",
    "           'Average expense  ' + '{:.2f}'.format(round((c1[0] - float(BalanceStep[-1]))/len(BalanceStep), 2))]\n",
    "    #Change the first line\n",
    "    I1[0] = 'Original Balance:' + I1[0]\n",
    "    #Change the balance body \n",
    "    I1[1:] = list(map(lambda x, y: x +' Balance '+ y, I1[1:], BalanceStep ))\n",
    "    \n",
    "    #Add the expense\n",
    "    result = '\\r\\n'.join(I1 + Expense)\n",
    "    return result\n"
   ]
  },
  {
   "cell_type": "code",
   "execution_count": null,
   "metadata": {
    "collapsed": true
   },
   "outputs": [],
   "source": [
    "MyTrial1Answer = 'Original Balance:  1000.00\\r\\n125 Market 125.45 Balance 874.55\\r\\n126 Hardware 34.95 Balance 839.60\\r\\n127 Video 7.45 Balance 832.15\\r\\n128 Book 14.32 Balance 817.83\\r\\n129 Gasoline 16.10 Balance 801.73\\r\\nTotal expense  198.27\\r\\nAverage expense  39.65\n",
    "SupposedAnswer = 'Original Balance: 1000.00\\r\\n125 Market 125.45 Balance 874.55\\r\\n126 Hardware 34.95 Balance 839.60\\r\\n127 Video 7.45 Balance 832.15\\r\\n128 Book 14.32 Balance 817.83\\r\\n129 Gasoline 16.10 Balance 801.73\\r\\nTotal expense  198.27\\r\\nAverage expense  39.65'"
   ]
  },
  {
   "cell_type": "code",
   "execution_count": 135,
   "metadata": {
    "collapsed": false
   },
   "outputs": [
    {
     "data": {
      "text/plain": [
       "'Original Balance:  1000.00\\r\\n125 Market 125.45 Balance 874.55\\r\\n126 Hardware 34.95 Balance 839.60\\r\\n127 Video 7.45 Balance 832.15\\r\\n128 Book 14.32 Balance 817.83\\r\\n129 Gasoline 16.10 Balance 801.73\\r\\nTotal expense  198.27\\r\\nAverage expense  39.65'"
      ]
     },
     "execution_count": 135,
     "metadata": {},
     "output_type": "execute_result"
    }
   ],
   "source": [
    "#Test function\n",
    "b1 = \"\"\"1000.00!=\n",
    "\n",
    "125 Market !=:125.45\n",
    "126 Hardware =34.95\n",
    "127 Video! 7.45\n",
    "128 Book :14.32\n",
    "129 Gasoline ::16.10\n",
    "\"\"\"\n",
    "balance(b1)"
   ]
  },
  {
   "cell_type": "code",
   "execution_count": 136,
   "metadata": {
    "collapsed": false
   },
   "outputs": [
    {
     "data": {
      "text/plain": [
       "'Original Balance:  1233.00\\r\\n125 Hardware 24.80 Balance 1208.20\\r\\n123 Flowers 93.50 Balance 1114.70\\r\\n127 Meat 120.90 Balance 993.80\\r\\n120 Picture 34.00 Balance 959.80\\r\\n124 Gasoline 11.00 Balance 948.80\\r\\n123 Photos 71.40 Balance 877.40\\r\\n122 Picture 93.50 Balance 783.90\\r\\n132 Tyres 19.00 Balance 764.90\\r\\n129 Stamps 13.60 Balance 751.30\\r\\n129 Fruits 17.60 Balance 733.70\\r\\n129 Market 128.00 Balance 605.70\\r\\n121 Gasoline 13.60 Balance 592.10\\r\\nTotal expense  640.90\\r\\nAverage expense  53.41'"
      ]
     },
     "execution_count": 136,
     "metadata": {},
     "output_type": "execute_result"
    }
   ],
   "source": [
    "b2=\"\"\"1233.00\n",
    "125 Hardware;! 24.8?;\n",
    "123 Flowers 93.5\n",
    "127 Meat 120.90\n",
    "120 Picture 34.00\n",
    "124 Gasoline 11.00\n",
    "123 Photos;! 71.4?;\n",
    "122 Picture 93.5\n",
    "132 Tyres;! 19.00,?;\n",
    "129 Stamps 13.6\n",
    "129 Fruits{} 17.6\n",
    "129 Market;! 128.00?;\n",
    "121 Gasoline;! 13.6?;\"\"\"\n",
    "\n",
    "balance(b2)"
   ]
  },
  {
   "cell_type": "code",
   "execution_count": 40,
   "metadata": {
    "collapsed": false
   },
   "outputs": [
    {
     "data": {
      "text/plain": [
       "[1000.0, 125.45, 34.95, 7.45, 14.32, 16.1]"
      ]
     },
     "execution_count": 40,
     "metadata": {},
     "output_type": "execute_result"
    },
    {
     "data": {
      "text/plain": [
       "[125.45]"
      ]
     },
     "execution_count": 40,
     "metadata": {},
     "output_type": "execute_result"
    }
   ],
   "source": [
    "c1\n",
    "c1[1:2]"
   ]
  },
  {
   "cell_type": "code",
   "execution_count": 88,
   "metadata": {
    "collapsed": false
   },
   "outputs": [],
   "source": [
    "a1 = list(range(1, len(c1)))\n",
    "a1.extend(Expense)\n"
   ]
  },
  {
   "cell_type": "code",
   "execution_count": 89,
   "metadata": {
    "collapsed": false
   },
   "outputs": [
    {
     "data": {
      "text/plain": [
       "[1, 2, 3, 4, 5, 'Total expense 198.27', 'Average expense 39.60']"
      ]
     },
     "execution_count": 89,
     "metadata": {},
     "output_type": "execute_result"
    }
   ],
   "source": [
    "a1"
   ]
  },
  {
   "cell_type": "code",
   "execution_count": 32,
   "metadata": {
    "collapsed": false
   },
   "outputs": [
    {
     "data": {
      "text/plain": [
       "160.4"
      ]
     },
     "execution_count": 32,
     "metadata": {},
     "output_type": "execute_result"
    }
   ],
   "source": [
    "sum(c1[1:3])"
   ]
  },
  {
   "cell_type": "code",
   "execution_count": 17,
   "metadata": {
    "collapsed": false
   },
   "outputs": [
    {
     "data": {
      "text/plain": [
       "801.7299999999998"
      ]
     },
     "execution_count": 17,
     "metadata": {},
     "output_type": "execute_result"
    }
   ],
   "source": [
    "from functools import reduce\n",
    "reduce(lambda x,y: float(x)-float(y), c1)"
   ]
  }
 ],
 "metadata": {
  "kernelspec": {
   "display_name": "Python 3",
   "language": "python",
   "name": "python3"
  },
  "language_info": {
   "codemirror_mode": {
    "name": "ipython",
    "version": 3
   },
   "file_extension": ".py",
   "mimetype": "text/x-python",
   "name": "python",
   "nbconvert_exporter": "python",
   "pygments_lexer": "ipython3",
   "version": "3.6.0"
  }
 },
 "nbformat": 4,
 "nbformat_minor": 2
}
