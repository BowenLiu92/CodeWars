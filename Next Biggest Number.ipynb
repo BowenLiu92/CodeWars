{
 "cells": [
  {
   "cell_type": "code",
   "execution_count": 5,
   "metadata": {
    "collapsed": true
   },
   "outputs": [],
   "source": [
    "#The first answer\n",
    "def next_bigger1(n):\n",
    "    ordered = lambda x: ''.join(sorted(str(x), reverse=True))\n",
    "    digits = ordered(n)\n",
    "    return next((x for x in range(n + 1, int(digits) + 1) if ordered(x) == digits), -1)\n"
   ]
  },
  {
   "cell_type": "code",
   "execution_count": 7,
   "metadata": {},
   "outputs": [
    {
     "data": {
      "text/plain": [
       "1312"
      ]
     },
     "execution_count": 7,
     "metadata": {},
     "output_type": "execute_result"
    }
   ],
   "source": [
    "next_bigger1(1231)"
   ]
  },
  {
   "cell_type": "code",
   "execution_count": 3,
   "metadata": {
    "collapsed": true
   },
   "outputs": [],
   "source": [
    "def next_bigger2(n):\n",
    "    i, ss = n + 1, sorted(str(n))\n",
    "\n",
    "    if str(n) == ''.join(ss[::-1]):\n",
    "        return -1\n",
    "\n",
    "    # shorter & faster loop\n",
    "    while sorted(str(i)) != ss:\n",
    "        i += 1\n",
    "\n",
    "    return i"
   ]
  }
 ],
 "metadata": {
  "kernelspec": {
   "display_name": "Python 3",
   "language": "python",
   "name": "python3"
  },
  "language_info": {
   "codemirror_mode": {
    "name": "ipython",
    "version": 3
   },
   "file_extension": ".py",
   "mimetype": "text/x-python",
   "name": "python",
   "nbconvert_exporter": "python",
   "pygments_lexer": "ipython3",
   "version": "3.6.8"
  }
 },
 "nbformat": 4,
 "nbformat_minor": 2
}
