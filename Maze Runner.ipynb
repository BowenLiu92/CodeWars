{
 "cells": [
  {
   "cell_type": "code",
   "execution_count": 1,
   "metadata": {
    "collapsed": true
   },
   "outputs": [],
   "source": [
    "from IPython.core.interactiveshell import InteractiveShell\n",
    "InteractiveShell.ast_node_interactivity = \"all\""
   ]
  },
  {
   "cell_type": "markdown",
   "metadata": {},
   "source": [
    "# Most Clever Answers on Codewars"
   ]
  },
  {
   "cell_type": "code",
   "execution_count": null,
   "metadata": {
    "collapsed": true
   },
   "outputs": [],
   "source": []
  },
  {
   "cell_type": "markdown",
   "metadata": {},
   "source": [
    "# My Working Progress and Solution"
   ]
  },
  {
   "cell_type": "code",
   "execution_count": 5,
   "metadata": {
    "collapsed": false
   },
   "outputs": [
    {
     "data": {
      "text/plain": [
       "0"
      ]
     },
     "execution_count": 5,
     "metadata": {},
     "output_type": "execute_result"
    },
    {
     "data": {
      "text/plain": [
       "1"
      ]
     },
     "execution_count": 5,
     "metadata": {},
     "output_type": "execute_result"
    },
    {
     "data": {
      "text/plain": [
       "[1, 2, 1, 0, 1, 0, 1]"
      ]
     },
     "execution_count": 5,
     "metadata": {},
     "output_type": "execute_result"
    },
    {
     "data": {
      "text/plain": [
       "7"
      ]
     },
     "execution_count": 5,
     "metadata": {},
     "output_type": "execute_result"
    }
   ],
   "source": [
    "#Just have to say that this is a very interesting question\n",
    "maze = [[1,1,1,1,1,1,1],\n",
    "        [1,0,0,0,0,0,3],\n",
    "        [1,0,1,0,1,0,1],\n",
    "        [0,0,1,0,0,0,1],\n",
    "        [1,0,1,0,1,0,1],\n",
    "        [1,0,0,0,0,0,1],\n",
    "        [1,2,1,0,1,0,1]]\n",
    "maze[1][1]\n",
    "maze[3][2]\n",
    "#Get the last array\n",
    "maze[-1]\n",
    "len(maze)"
   ]
  },
  {
   "cell_type": "code",
   "execution_count": 13,
   "metadata": {
    "collapsed": false
   },
   "outputs": [
    {
     "data": {
      "text/plain": [
       "1"
      ]
     },
     "execution_count": 13,
     "metadata": {},
     "output_type": "execute_result"
    },
    {
     "data": {
      "text/plain": [
       "[(6, 1)]"
      ]
     },
     "execution_count": 13,
     "metadata": {},
     "output_type": "execute_result"
    },
    {
     "data": {
      "text/plain": [
       "[(1, 6)]"
      ]
     },
     "execution_count": 13,
     "metadata": {},
     "output_type": "execute_result"
    }
   ],
   "source": [
    "#Move N shall be just reduce 1 in the slice number\n",
    "for i in maze:\n",
    "    for j in i:\n",
    "        if j == 2:\n",
    "            i.index(j)\n",
    "            \n",
    "#Write it in list comprehension, start position\n",
    "Start = [(maze.index(i), i.index(j)) for i in maze for j in i if j == 2]\n",
    "Start\n",
    "\n",
    "#Exit\n",
    "[(maze.index(i), i.index(j)) for i in maze for j in i if j == 3]"
   ]
  },
  {
   "cell_type": "code",
   "execution_count": 18,
   "metadata": {
    "collapsed": false,
    "scrolled": true
   },
   "outputs": [
    {
     "data": {
      "text/plain": [
       "[6, 1]"
      ]
     },
     "execution_count": 18,
     "metadata": {},
     "output_type": "execute_result"
    },
    {
     "data": {
      "text/plain": [
       "7"
      ]
     },
     "execution_count": 18,
     "metadata": {},
     "output_type": "execute_result"
    },
    {
     "data": {
      "text/plain": [
       "[5, 1]"
      ]
     },
     "execution_count": 18,
     "metadata": {},
     "output_type": "execute_result"
    }
   ],
   "source": [
    "#Try to save them directly as elements instead of as a tuple \n",
    "Start = [maze.index(i) for i in maze for j in i if j == 2] + [i.index(j) for i in maze for j in i if j == 2]\n",
    "Start\n",
    "\n",
    "limit = len(maze)\n",
    "limit\n",
    "Start[0] -= 1\n",
    "Start"
   ]
  },
  {
   "cell_type": "code",
   "execution_count": 24,
   "metadata": {
    "collapsed": false
   },
   "outputs": [
    {
     "data": {
      "text/plain": [
       "7"
      ]
     },
     "execution_count": 24,
     "metadata": {},
     "output_type": "execute_result"
    }
   ],
   "source": [
    "#Space limit\n",
    "len(maze)"
   ]
  },
  {
   "cell_type": "code",
   "execution_count": 20,
   "metadata": {
    "collapsed": false
   },
   "outputs": [
    {
     "data": {
      "text/plain": [
       "[6, 1]"
      ]
     },
     "execution_count": 20,
     "metadata": {},
     "output_type": "execute_result"
    },
    {
     "data": {
      "text/plain": [
       "[1, 6]"
      ]
     },
     "execution_count": 20,
     "metadata": {},
     "output_type": "execute_result"
    }
   ],
   "source": [
    "#Moving:\n",
    "Start = [maze.index(i) for i in maze for j in i if j == 2] + [i.index(j) for i in maze for j in i if j == 2]\n",
    "Start\n",
    "\n",
    "for i in [\"N\",\"N\",\"N\",\"N\",\"N\",\"E\",\"E\",\"E\",\"E\",\"E\"]:\n",
    "    if i == 'N':\n",
    "        Start[0]-= 1\n",
    "    elif i == 'S':\n",
    "        Start[0]+= 1\n",
    "    elif i == 'E':\n",
    "        Start[1]+= 1\n",
    "    else:\n",
    "        Start[1]-= 1\n",
    "Start"
   ]
  },
  {
   "cell_type": "code",
   "execution_count": null,
   "metadata": {
    "collapsed": true
   },
   "outputs": [],
   "source": [
    "def maze_runner(maze, directions):\n",
    "    maze = [[1,1,1,1,1,1,1],\n",
    "        [1,0,0,0,0,0,3],\n",
    "        [1,0,1,0,1,0,1],\n",
    "        [0,0,1,0,0,0,1],\n",
    "        [1,0,1,0,1,0,1],\n",
    "        [1,0,0,0,0,0,1],\n",
    "        [1,2,1,0,1,0,1]]\n",
    "    Start = [maze.index(i) for i in maze for j in i if j == 2] + [i.index(j) for i in maze for j in i if j == 2]"
   ]
  }
 ],
 "metadata": {
  "kernelspec": {
   "display_name": "Python 3",
   "language": "python",
   "name": "python3"
  },
  "language_info": {
   "codemirror_mode": {
    "name": "ipython",
    "version": 3
   },
   "file_extension": ".py",
   "mimetype": "text/x-python",
   "name": "python",
   "nbconvert_exporter": "python",
   "pygments_lexer": "ipython3",
   "version": "3.6.0"
  }
 },
 "nbformat": 4,
 "nbformat_minor": 2
}
