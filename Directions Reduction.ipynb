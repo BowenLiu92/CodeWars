{
 "cells": [
  {
   "cell_type": "code",
   "execution_count": 1,
   "metadata": {
    "collapsed": true
   },
   "outputs": [],
   "source": [
    "from IPython.core.interactiveshell import InteractiveShell\n",
    "InteractiveShell.ast_node_interactivity = \"all\""
   ]
  },
  {
   "cell_type": "code",
   "execution_count": null,
   "metadata": {
    "collapsed": true
   },
   "outputs": [],
   "source": [
    "opposite = {'NORTH': 'SOUTH', 'EAST': 'WEST', 'SOUTH': 'NORTH', 'WEST': 'EAST'}\n",
    "\n",
    "def dirReduc(plan):\n",
    "    new_plan = []\n",
    "    for d in plan:\n",
    "        if new_plan and new_plan[-1] == opposite[d]:\n",
    "            new_plan.pop()\n",
    "        else:\n",
    "            new_plan.append(d)\n",
    "    return new_plan"
   ]
  },
  {
   "cell_type": "code",
   "execution_count": null,
   "metadata": {
    "collapsed": true
   },
   "outputs": [],
   "source": [
    "def dirReduc(arr):\n",
    "    dir = \" \".join(arr)\n",
    "    dir2 = dir.replace(\"NORTH SOUTH\",'').replace(\"SOUTH NORTH\",'').replace(\"EAST WEST\",'').replace(\"WEST EAST\",'')\n",
    "    dir3 = dir2.split()\n",
    "    return dirReduc(dir3) if len(dir3) < len(arr) else dir3"
   ]
  },
  {
   "cell_type": "code",
   "execution_count": 2,
   "metadata": {
    "collapsed": false
   },
   "outputs": [
    {
     "data": {
      "text/plain": [
       "'Aw shfuck dfuck'"
      ]
     },
     "execution_count": 2,
     "metadata": {},
     "output_type": "execute_result"
    }
   ],
   "source": [
    "#learn a new function: replace\n",
    "String = 'Aw shucks ducks'\n",
    "\n",
    "String.replace('ucks', 'fuck', 2)"
   ]
  },
  {
   "cell_type": "code",
   "execution_count": 2,
   "metadata": {
    "collapsed": false
   },
   "outputs": [
    {
     "data": {
      "text/plain": [
       "['SOUTH', 'SOUTH', 'WEST', 'NORTH']"
      ]
     },
     "execution_count": 2,
     "metadata": {},
     "output_type": "execute_result"
    }
   ],
   "source": [
    "#Basic Simplify Function\n",
    "\n",
    "a = [\"NORTH\", \"SOUTH\", \"SOUTH\", \"EAST\", \"WEST\", \"NORTH\", \"WEST\"]\n",
    "\n",
    "I1 = []\n",
    "for i in range(len(a) - 1):\n",
    "    if a[i][0] == 'N' and a[i+1][0] != 'S':\n",
    "        I1.append(a[i])\n",
    "    elif a[i][0] == 'N' and a[i+1][0] == 'S':\n",
    "        i += 2\n",
    "    elif a[i][0] == 'S' and a[i+1][0] != 'N':\n",
    "        I1.append(a[i])\n",
    "    elif a[i][0] == 'S' and a[i+1][0] == 'N':\n",
    "        i += 2\n",
    "    elif a[i][0] == 'E' and a[i+1][0] != 'W':\n",
    "        I1.append(a[i])\n",
    "    elif a[i][0] == 'E' and a[i+1][0] == 'W':\n",
    "        i += 2\n",
    "    elif a[i][0] == 'W' and a[i+1][0] != 'E':\n",
    "        I1.append(a[i])\n",
    "    elif a[i][0] == 'W' and a[i+1][0] == 'E':\n",
    "        i += 2 \n",
    "I1\n",
    "#Just like I suspected, many holes to fix"
   ]
  },
  {
   "cell_type": "code",
   "execution_count": null,
   "metadata": {
    "collapsed": true
   },
   "outputs": [],
   "source": [
    "#See what's wrong in each step\n"
   ]
  },
  {
   "cell_type": "code",
   "execution_count": 4,
   "metadata": {
    "collapsed": false
   },
   "outputs": [
    {
     "name": "stdout",
     "output_type": "stream",
     "text": [
      "[] 2\n",
      "['SOUTH'] 3\n",
      "['SOUTH'] 5\n",
      "['SOUTH', 'NORTH'] 6\n"
     ]
    }
   ],
   "source": [
    "#Try writing using while\n",
    "a = [\"NORTH\", \"SOUTH\", \"SOUTH\", \"EAST\", \"WEST\", \"NORTH\", \"WEST\"]\n",
    "\n",
    "i = 0\n",
    "I1 = []\n",
    "while i < (len(a)-1):\n",
    "    if a[i][0] == 'N' and a[i+1][0] != 'S':\n",
    "        I1.append(a[i])\n",
    "        i += 1\n",
    "    elif a[i][0] == 'N' and a[i+1][0] == 'S':\n",
    "        i += 2\n",
    "    elif a[i][0] == 'S' and a[i+1][0] != 'N':\n",
    "        I1.append(a[i])\n",
    "        i += 1\n",
    "    elif a[i][0] == 'S' and a[i+1][0] == 'N':\n",
    "        i += 2\n",
    "    elif a[i][0] == 'E' and a[i+1][0] != 'W':\n",
    "        I1.append(a[i])\n",
    "        i += 1\n",
    "    elif a[i][0] == 'E' and a[i+1][0] == 'W':\n",
    "        i += 2\n",
    "    elif a[i][0] == 'W' and a[i+1][0] != 'E':\n",
    "        I1.append(a[i])\n",
    "        i += 1\n",
    "    elif a[i][0] == 'W' and a[i+1][0] == 'E':\n",
    "        i += 2 \n",
    "    print(I1, i)\n"
   ]
  },
  {
   "cell_type": "code",
   "execution_count": 5,
   "metadata": {
    "collapsed": false,
    "scrolled": true
   },
   "outputs": [
    {
     "name": "stdout",
     "output_type": "stream",
     "text": [
      "[] 3\n",
      "['SOUTH'] 4\n",
      "['SOUTH'] 6\n",
      "['SOUTH', 'NORTH'] 7\n"
     ]
    }
   ],
   "source": [
    "#It seems like the i+1 may create an index out of range problem\n",
    "#Try using i -1\n",
    "i = 1\n",
    "I1 = []\n",
    "while i < (len(a)):\n",
    "    if a[i][0] == 'N' and a[i-1][0] != 'S':\n",
    "        I1.append(a[i-1])\n",
    "        i += 1\n",
    "    elif a[i][0] == 'N' and a[i-1][0] == 'S':\n",
    "        i += 2\n",
    "    elif a[i][0] == 'S' and a[i-1][0] != 'N':\n",
    "        I1.append(a[i-1])\n",
    "        i += 1\n",
    "    elif a[i][0] == 'S' and a[i-1][0] == 'N':\n",
    "        i += 2\n",
    "    elif a[i][0] == 'E' and a[i-1][0] != 'W':\n",
    "        I1.append(a[i-1])\n",
    "        i += 1\n",
    "    elif a[i][0] == 'E' and a[i-1][0] == 'W':\n",
    "        i += 2\n",
    "    elif a[i][0] == 'W' and a[i-1][0] != 'E':\n",
    "        I1.append(a[i-1])\n",
    "        i += 1\n",
    "    elif a[i][0] == 'W' and a[i-1][0] == 'E':\n",
    "        i += 2 \n",
    "    print(I1, i)\n",
    "a = [\"NORTH\", \"SOUTH\", \"SOUTH\", \"EAST\", \"WEST\", \"NORTH\", \"WEST\"]"
   ]
  },
  {
   "cell_type": "code",
   "execution_count": 6,
   "metadata": {
    "collapsed": false
   },
   "outputs": [
    {
     "data": {
      "text/plain": [
       "['WEST']"
      ]
     },
     "execution_count": 6,
     "metadata": {},
     "output_type": "execute_result"
    }
   ],
   "source": [
    "#Preliminary Function for this \n",
    "\n",
    "def presim(a):\n",
    "    i = 0\n",
    "    I1 = []\n",
    "    while i < (len(a)-1):\n",
    "        if a[i][0] == 'N' and a[i+1][0] != 'S':\n",
    "            I1.append(a[i])\n",
    "            i += 1\n",
    "        elif a[i][0] == 'N' and a[i+1][0] == 'S':\n",
    "            i += 2\n",
    "        elif a[i][0] == 'S' and a[i+1][0] != 'N':\n",
    "            I1.append(a[i])\n",
    "            i += 1\n",
    "        elif a[i][0] == 'S' and a[i+1][0] == 'N':\n",
    "            i += 2\n",
    "        elif a[i][0] == 'E' and a[i+1][0] != 'W':\n",
    "            I1.append(a[i])\n",
    "            i += 1\n",
    "        elif a[i][0] == 'E' and a[i+1][0] == 'W':\n",
    "            i += 2\n",
    "        elif a[i][0] == 'W' and a[i+1][0] != 'E':\n",
    "            I1.append(a[i])\n",
    "            i += 1\n",
    "        elif a[i][0] == 'W' and a[i+1][0] == 'E':\n",
    "            i += 2 \n",
    "    I1.append(a[-1])\n",
    "    return I1\n",
    "A = presim(a)\n",
    "presim(A)"
   ]
  },
  {
   "cell_type": "code",
   "execution_count": 13,
   "metadata": {
    "collapsed": false
   },
   "outputs": [
    {
     "data": {
      "text/plain": [
       "['WEST']"
      ]
     },
     "execution_count": 13,
     "metadata": {},
     "output_type": "execute_result"
    }
   ],
   "source": [
    "presim(A)"
   ]
  },
  {
   "cell_type": "code",
   "execution_count": 15,
   "metadata": {
    "collapsed": false
   },
   "outputs": [
    {
     "data": {
      "text/plain": [
       "['SOUTH', 'NORTH', 'WEST']"
      ]
     },
     "execution_count": 15,
     "metadata": {},
     "output_type": "execute_result"
    },
    {
     "data": {
      "text/plain": [
       "['WEST']"
      ]
     },
     "execution_count": 15,
     "metadata": {},
     "output_type": "execute_result"
    },
    {
     "data": {
      "text/plain": [
       "['WEST']"
      ]
     },
     "execution_count": 15,
     "metadata": {},
     "output_type": "execute_result"
    }
   ],
   "source": [
    "presim(a)\n",
    "A\n",
    "while len(presim(A)) < len(A):\n",
    "    A = presim(A)\n",
    "A    "
   ]
  },
  {
   "cell_type": "code",
   "execution_count": 22,
   "metadata": {
    "collapsed": true
   },
   "outputs": [],
   "source": [
    "#I want the composite function to keep running the presim function until it can't be reduced\n",
    "def dirReduc(a):\n",
    "    if not a:\n",
    "        return []\n",
    "    def presim(a):\n",
    "        i = 0\n",
    "        I1 = []\n",
    "        while i < (len(a)-1):\n",
    "            if a[i][0] == 'N' and a[i+1][0] != 'S':\n",
    "                I1.append(a[i])\n",
    "                i += 1\n",
    "            elif a[i][0] == 'N' and a[i+1][0] == 'S':\n",
    "                i += 2\n",
    "            elif a[i][0] == 'S' and a[i+1][0] != 'N':\n",
    "                I1.append(a[i])\n",
    "                i += 1\n",
    "            elif a[i][0] == 'S' and a[i+1][0] == 'N':\n",
    "                i += 2\n",
    "            elif a[i][0] == 'E' and a[i+1][0] != 'W':\n",
    "                I1.append(a[i])\n",
    "                i += 1\n",
    "            elif a[i][0] == 'E' and a[i+1][0] == 'W':\n",
    "                i += 2\n",
    "            elif a[i][0] == 'W' and a[i+1][0] != 'E':\n",
    "                I1.append(a[i])\n",
    "                i += 1\n",
    "            elif a[i][0] == 'W' and a[i+1][0] == 'E':\n",
    "                i += 2 \n",
    "        I1.append(a[-1])\n",
    "        return I1\n",
    "    A = presim(a)\n",
    "    while len(presim(A)) < len(A):\n",
    "        A = presim(A)\n",
    "    return A"
   ]
  },
  {
   "cell_type": "code",
   "execution_count": 27,
   "metadata": {
    "collapsed": true
   },
   "outputs": [],
   "source": [
    "#Test and see where it is wrong\n",
    "def dirReduc(a):\n",
    "    if not a:\n",
    "        return []\n",
    "    def presim(a):\n",
    "        i = 0\n",
    "        I1 = []\n",
    "        while i < (len(a)-1):\n",
    "            if a[i][0] == 'N' and a[i+1][0] != 'S':\n",
    "                I1.append(a[i])\n",
    "                i += 1\n",
    "            elif a[i][0] == 'N' and a[i+1][0] == 'S':\n",
    "                i += 2\n",
    "            elif a[i][0] == 'S' and a[i+1][0] != 'N':\n",
    "                I1.append(a[i])\n",
    "                i += 1\n",
    "            elif a[i][0] == 'S' and a[i+1][0] == 'N':\n",
    "                i += 2\n",
    "            elif a[i][0] == 'E' and a[i+1][0] != 'W':\n",
    "                I1.append(a[i])\n",
    "                i += 1\n",
    "            elif a[i][0] == 'E' and a[i+1][0] == 'W':\n",
    "                i += 2\n",
    "            elif a[i][0] == 'W' and a[i+1][0] != 'E':\n",
    "                I1.append(a[i])\n",
    "                i += 1\n",
    "            elif a[i][0] == 'W' and a[i+1][0] == 'E':\n",
    "                i += 2 \n",
    "        print(i)\n",
    "        I1.append(a[-1])\n",
    "        return I1\n",
    "    A = presim(a)\n",
    "    while len(presim(A)) < len(A):\n",
    "        A = presim(A)\n",
    "    return A"
   ]
  },
  {
   "cell_type": "code",
   "execution_count": 40,
   "metadata": {
    "collapsed": false
   },
   "outputs": [],
   "source": [
    "#The core is just the presim function\n",
    "def presim(a):\n",
    "    i = 0\n",
    "    I1 = []\n",
    "    while i < (len(a)-1):\n",
    "        if a[i][0] == 'N' and a[i+1][0] != 'S':\n",
    "            I1.append(a[i])\n",
    "            i += 1\n",
    "        elif a[i][0] == 'N' and a[i+1][0] == 'S':\n",
    "            i += 2\n",
    "        elif a[i][0] == 'S' and a[i+1][0] != 'N':\n",
    "            I1.append(a[i])\n",
    "            i += 1\n",
    "        elif a[i][0] == 'S' and a[i+1][0] == 'N':\n",
    "            i += 2\n",
    "        elif a[i][0] == 'E' and a[i+1][0] != 'W':\n",
    "            I1.append(a[i])\n",
    "            i += 1\n",
    "        elif a[i][0] == 'E' and a[i+1][0] == 'W':\n",
    "            i += 2\n",
    "        elif a[i][0] == 'W' and a[i+1][0] != 'E':\n",
    "            I1.append(a[i])\n",
    "            i += 1\n",
    "        elif a[i][0] == 'W' and a[i+1][0] == 'E':\n",
    "            i += 2 \n",
    "    print(len(a), i)\n",
    "    if i < len(a):\n",
    "        I1.append(a[-1])\n",
    "    return I1"
   ]
  },
  {
   "cell_type": "code",
   "execution_count": 44,
   "metadata": {
    "collapsed": true
   },
   "outputs": [],
   "source": [
    "#Test and see where it is wrong\n",
    "def dirReduc(a):\n",
    "    if not a:\n",
    "        return []\n",
    "    def presim(a):\n",
    "        i = 0\n",
    "        I1 = []\n",
    "        while i < (len(a)-1):\n",
    "            if a[i][0] == 'N' and a[i+1][0] != 'S':\n",
    "                I1.append(a[i])\n",
    "                i += 1\n",
    "            elif a[i][0] == 'N' and a[i+1][0] == 'S':\n",
    "                i += 2\n",
    "            elif a[i][0] == 'S' and a[i+1][0] != 'N':\n",
    "                I1.append(a[i])\n",
    "                i += 1\n",
    "            elif a[i][0] == 'S' and a[i+1][0] == 'N':\n",
    "                i += 2\n",
    "            elif a[i][0] == 'E' and a[i+1][0] != 'W':\n",
    "                I1.append(a[i])\n",
    "                i += 1\n",
    "            elif a[i][0] == 'E' and a[i+1][0] == 'W':\n",
    "                i += 2\n",
    "            elif a[i][0] == 'W' and a[i+1][0] != 'E':\n",
    "                I1.append(a[i])\n",
    "                i += 1\n",
    "            elif a[i][0] == 'W' and a[i+1][0] == 'E':\n",
    "                i += 2 \n",
    "        if i < len(a):\n",
    "            I1.append(a[-1])\n",
    "        return I1\n",
    "    A = presim(a)\n",
    "    while len(presim(A)) < len(A):\n",
    "        A = presim(A)\n",
    "    return A"
   ]
  },
  {
   "cell_type": "code",
   "execution_count": 39,
   "metadata": {
    "collapsed": false,
    "scrolled": true
   },
   "outputs": [
    {
     "name": "stdout",
     "output_type": "stream",
     "text": [
      "8 7\n"
     ]
    },
    {
     "data": {
      "text/plain": [
       "['N', 'E', 'E', 'W', 'W', 'S']"
      ]
     },
     "execution_count": 39,
     "metadata": {},
     "output_type": "execute_result"
    },
    {
     "name": "stdout",
     "output_type": "stream",
     "text": [
      "6 5\n"
     ]
    },
    {
     "data": {
      "text/plain": [
       "['N', 'E', 'W', 'S']"
      ]
     },
     "execution_count": 39,
     "metadata": {},
     "output_type": "execute_result"
    },
    {
     "name": "stdout",
     "output_type": "stream",
     "text": [
      "4 3\n"
     ]
    },
    {
     "data": {
      "text/plain": [
       "['N', 'S']"
      ]
     },
     "execution_count": 39,
     "metadata": {},
     "output_type": "execute_result"
    },
    {
     "name": "stdout",
     "output_type": "stream",
     "text": [
      "2 2\n"
     ]
    },
    {
     "data": {
      "text/plain": [
       "[]"
      ]
     },
     "execution_count": 39,
     "metadata": {},
     "output_type": "execute_result"
    }
   ],
   "source": [
    "presim(['N', 'E', 'E', 'E', 'W', 'W', 'W', 'S'])\n",
    "presim(['N', 'E', 'E', 'W', 'W', 'S'])\n",
    "presim(['N', 'E', 'W', 'S'])\n",
    "presim(['N', 'S'])"
   ]
  },
  {
   "cell_type": "code",
   "execution_count": null,
   "metadata": {
    "collapsed": true
   },
   "outputs": [],
   "source": [
    "#Made a change to the original "
   ]
  },
  {
   "cell_type": "code",
   "execution_count": 45,
   "metadata": {
    "collapsed": true
   },
   "outputs": [],
   "source": [
    "def dirReduc(arr):\n",
    "    dir = \" \".join(arr)\n",
    "    dir2 = dir.replace(\"NORTH SOUTH\",'').replace(\"SOUTH NORTH\",'').replace(\"EAST WEST\",'').replace(\"WEST EAST\",'')\n",
    "    dir3 = dir2.split()\n",
    "    return dirReduc(dir3) if len(dir3) < len(arr) else dir3"
   ]
  },
  {
   "cell_type": "code",
   "execution_count": 48,
   "metadata": {
    "collapsed": false
   },
   "outputs": [
    {
     "data": {
      "text/plain": [
       "['NORTH', 'WEST', 'SOUTH', 'EAST']"
      ]
     },
     "execution_count": 48,
     "metadata": {},
     "output_type": "execute_result"
    },
    {
     "data": {
      "text/plain": [
       "['WEST']"
      ]
     },
     "execution_count": 48,
     "metadata": {},
     "output_type": "execute_result"
    },
    {
     "data": {
      "text/plain": [
       "['N', 'E', 'W', 'E', 'W', 'S', 'E']"
      ]
     },
     "execution_count": 48,
     "metadata": {},
     "output_type": "execute_result"
    },
    {
     "data": {
      "text/plain": [
       "['NORTH', 'NORTH', 'NORTH']"
      ]
     },
     "execution_count": 48,
     "metadata": {},
     "output_type": "execute_result"
    },
    {
     "data": {
      "text/plain": [
       "[]"
      ]
     },
     "execution_count": 48,
     "metadata": {},
     "output_type": "execute_result"
    },
    {
     "data": {
      "text/plain": [
       "[]"
      ]
     },
     "execution_count": 48,
     "metadata": {},
     "output_type": "execute_result"
    }
   ],
   "source": [
    "#Let's see if the function above works\n",
    "dirReduc([\"NORTH\", \"WEST\", \"SOUTH\", \"EAST\"])\n",
    "dirReduc([\"NORTH\", \"SOUTH\", \"SOUTH\", \"EAST\", \"WEST\", \"NORTH\", \"WEST\"])\n",
    "dirReduc(['N', 'E', 'W', 'E', 'W', 'S', 'E'])\n",
    "dirReduc(['NORTH', 'NORTH', 'EAST', 'WEST', 'NORTH'])\n",
    "dirReduc([])\n",
    "dirReduc(['NORTH', 'EAST', 'EAST', 'EAST', 'WEST', 'WEST', 'WEST', 'SOUTH']) #Finally this one can show me the problems"
   ]
  },
  {
   "cell_type": "code",
   "execution_count": null,
   "metadata": {
    "collapsed": true
   },
   "outputs": [],
   "source": [
    "#Function replace study\n"
   ]
  },
  {
   "cell_type": "code",
   "execution_count": 26,
   "metadata": {
    "collapsed": false
   },
   "outputs": [
    {
     "data": {
      "text/plain": [
       "['N', 'E', 'E', 'W', 'W', 'S']"
      ]
     },
     "execution_count": 26,
     "metadata": {},
     "output_type": "execute_result"
    }
   ],
   "source": [
    "presim(['N', 'E', 'E', 'E', 'W', 'W', 'W', 'S'])"
   ]
  },
  {
   "cell_type": "code",
   "execution_count": 21,
   "metadata": {
    "collapsed": false
   },
   "outputs": [
    {
     "ename": "IndexError",
     "evalue": "list index out of range",
     "output_type": "error",
     "traceback": [
      "\u001b[0;31m---------------------------------------------------------------------------\u001b[0m",
      "\u001b[0;31mIndexError\u001b[0m                                Traceback (most recent call last)",
      "\u001b[0;32m<ipython-input-21-bd9257695b7c>\u001b[0m in \u001b[0;36m<module>\u001b[0;34m()\u001b[0m\n\u001b[1;32m      1\u001b[0m \u001b[0mB\u001b[0m \u001b[1;33m=\u001b[0m \u001b[1;33m[\u001b[0m\u001b[1;33m]\u001b[0m\u001b[1;33m\u001b[0m\u001b[0m\n\u001b[0;32m----> 2\u001b[0;31m \u001b[0mB\u001b[0m\u001b[1;33m[\u001b[0m\u001b[1;33m-\u001b[0m\u001b[1;36m1\u001b[0m\u001b[1;33m]\u001b[0m\u001b[1;33m\u001b[0m\u001b[0m\n\u001b[0m",
      "\u001b[0;31mIndexError\u001b[0m: list index out of range"
     ]
    }
   ],
   "source": [
    "B = []\n",
    "B[-1]"
   ]
  },
  {
   "cell_type": "code",
   "execution_count": 9,
   "metadata": {
    "collapsed": false
   },
   "outputs": [
    {
     "data": {
      "text/plain": [
       "('NORTH', 'SOUTH')"
      ]
     },
     "execution_count": 9,
     "metadata": {},
     "output_type": "execute_result"
    },
    {
     "data": {
      "text/plain": [
       "True"
      ]
     },
     "execution_count": 9,
     "metadata": {},
     "output_type": "execute_result"
    }
   ],
   "source": [
    "from itertools import zip_longest\n",
    "\n",
    "def grouper(iterable, n, fillvalue=None):\n",
    "    args = [iter(iterable)] * n\n",
    "    return zip_longest(*args, fillvalue=fillvalue)\n",
    "IC1 = list(grouper(a, 2))\n",
    "IC1[0]\n",
    "set(IC1[0]) == {'SOUTH', 'NORTH'}"
   ]
  }
 ],
 "metadata": {
  "kernelspec": {
   "display_name": "Python 3",
   "language": "python",
   "name": "python3"
  },
  "language_info": {
   "codemirror_mode": {
    "name": "ipython",
    "version": 3
   },
   "file_extension": ".py",
   "mimetype": "text/x-python",
   "name": "python",
   "nbconvert_exporter": "python",
   "pygments_lexer": "ipython3",
   "version": "3.6.0"
  }
 },
 "nbformat": 4,
 "nbformat_minor": 2
}
