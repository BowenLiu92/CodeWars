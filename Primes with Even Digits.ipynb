{
 "cells": [
  {
   "cell_type": "code",
   "execution_count": 1,
   "metadata": {
    "collapsed": true
   },
   "outputs": [],
   "source": [
    "from IPython.core.interactiveshell import InteractiveShell\n",
    "InteractiveShell.ast_node_interactivity = \"all\""
   ]
  },
  {
   "cell_type": "markdown",
   "metadata": {},
   "source": [
    "# Most Clever Answer on Codewars"
   ]
  },
  {
   "cell_type": "code",
   "execution_count": 17,
   "metadata": {
    "collapsed": true
   },
   "outputs": [],
   "source": [
    "def is_prime(n):\n",
    "    if n % 2 == 0: return False\n",
    "    for x in xrange(3, int(n**0.5) + 1, 2):\n",
    "        if n % x == 0: return False\n",
    "    return True\n",
    "\n",
    "def f(n):\n",
    "    max_prime, max_even_cnt = 0, 0\n",
    "    \n",
    "    for x in range(n-1, 0, -1):\n",
    "        if len(str(x)) <= max_even_cnt + 1:\n",
    "            break\n",
    "        \n",
    "        if is_prime(x):\n",
    "            even_cnt = sum(d in \"02468\" for d in str(x))\n",
    "            if even_cnt > max_even_cnt:\n",
    "                max_prime = x\n",
    "                max_even_cnt = even_cnt\n",
    "    \n",
    "    return max_prime"
   ]
  },
  {
   "cell_type": "markdown",
   "metadata": {},
   "source": [
    "# My Working Progress"
   ]
  },
  {
   "cell_type": "code",
   "execution_count": 3,
   "metadata": {},
   "outputs": [
    {
     "data": {
      "text/plain": [
       "True"
      ]
     },
     "execution_count": 3,
     "metadata": {},
     "output_type": "execute_result"
    },
    {
     "data": {
      "text/plain": [
       "True"
      ]
     },
     "execution_count": 3,
     "metadata": {},
     "output_type": "execute_result"
    }
   ],
   "source": [
    "#First create a function that can tell prime or not\n",
    "def isPrime(n):\n",
    "    for i in list(range(2, int(n**0.5)+1)):\n",
    "        if n%i == 0:\n",
    "            return False \n",
    "    return True\n",
    "\n",
    "isPrime(887)\n",
    "isPrime(17)"
   ]
  },
  {
   "cell_type": "code",
   "execution_count": 7,
   "metadata": {
    "collapsed": true
   },
   "outputs": [],
   "source": [
    "def f(n):\n",
    "    def isPrime(n):\n",
    "        for i in list(range(2, int(n**0.5)+1)):\n",
    "            if n%i == 0:\n",
    "                return False \n",
    "        return True\n",
    "    r = []\n",
    "    while n > 1:\n",
    "        n-=1\n",
    "        if isPrime(n):\n",
    "            r.append(n)\n",
    "    return max(r, key = lambda x: (len([ i for i in list(str(x)) if int(i)%2 == 0])))\n",
    "\n",
    "#p.s. This worked for the sample but it timed out. I will modify it a bit."
   ]
  },
  {
   "cell_type": "code",
   "execution_count": null,
   "metadata": {
    "collapsed": true
   },
   "outputs": [],
   "source": [
    "#What if I made a break \n",
    "\n",
    "def f(n):\n",
    "    def isPrime(n):\n",
    "        for i in list(range(2, int(n**0.5)+1)):\n",
    "            if n%i == 0:\n",
    "                return False \n",
    "        return True\n",
    "    r = []\n",
    "    while n > 1:\n",
    "        n-=1\n",
    "        if isPrime(n):\n",
    "            r.append(n)\n",
    "            if len([ i for i in list(str(n)) if int(i)%2 == 0]) == len(list(str(n))):\n",
    "                break\n",
    "    return max(r, key = lambda x: (len([ i for i in list(str(x)) if int(i)%2 == 0])))"
   ]
  },
  {
   "cell_type": "code",
   "execution_count": 15,
   "metadata": {},
   "outputs": [
    {
     "data": {
      "text/plain": [
       "3"
      ]
     },
     "execution_count": 15,
     "metadata": {},
     "output_type": "execute_result"
    },
    {
     "data": {
      "text/plain": [
       "1"
      ]
     },
     "execution_count": 15,
     "metadata": {},
     "output_type": "execute_result"
    }
   ],
   "source": [
    "len(list(str(983)))\n",
    "len([ i for i in list(str(983)) if int(i)%2 == 0])"
   ]
  },
  {
   "cell_type": "code",
   "execution_count": 11,
   "metadata": {},
   "outputs": [
    {
     "data": {
      "text/plain": [
       "[487,\n",
       " 467,\n",
       " 463,\n",
       " 461,\n",
       " 449,\n",
       " 443,\n",
       " 421,\n",
       " 409,\n",
       " 401,\n",
       " 283,\n",
       " 281,\n",
       " 269,\n",
       " 263,\n",
       " 241,\n",
       " 229,\n",
       " 227,\n",
       " 223,\n",
       " 499,\n",
       " 491,\n",
       " 479,\n",
       " 457,\n",
       " 439,\n",
       " 433,\n",
       " 431,\n",
       " 419,\n",
       " 389,\n",
       " 383,\n",
       " 367,\n",
       " 349,\n",
       " 347,\n",
       " 341,\n",
       " 307,\n",
       " 293,\n",
       " 277,\n",
       " 271,\n",
       " 257,\n",
       " 251,\n",
       " 239,\n",
       " 233,\n",
       " 211,\n",
       " 181,\n",
       " 167,\n",
       " 163,\n",
       " 149,\n",
       " 127,\n",
       " 109,\n",
       " 107,\n",
       " 103,\n",
       " 101,\n",
       " 89,\n",
       " 83,\n",
       " 67,\n",
       " 61,\n",
       " 47,\n",
       " 43,\n",
       " 41,\n",
       " 29,\n",
       " 23,\n",
       " 2,\n",
       " 397,\n",
       " 379,\n",
       " 373,\n",
       " 359,\n",
       " 353,\n",
       " 337,\n",
       " 331,\n",
       " 317,\n",
       " 313,\n",
       " 311,\n",
       " 199,\n",
       " 197,\n",
       " 193,\n",
       " 191,\n",
       " 179,\n",
       " 173,\n",
       " 157,\n",
       " 151,\n",
       " 139,\n",
       " 137,\n",
       " 131,\n",
       " 113,\n",
       " 97,\n",
       " 79,\n",
       " 73,\n",
       " 71,\n",
       " 59,\n",
       " 53,\n",
       " 37,\n",
       " 31,\n",
       " 19,\n",
       " 17,\n",
       " 13,\n",
       " 11,\n",
       " 7,\n",
       " 5,\n",
       " 3]"
      ]
     },
     "execution_count": 11,
     "metadata": {},
     "output_type": "execute_result"
    }
   ],
   "source": [
    "#What does the question want\n",
    "\n",
    "def f1(n):\n",
    "    r = []\n",
    "    while n > 1:\n",
    "        n-=1\n",
    "        if 2 in [n, 2**n%n]:\n",
    "            r.append(n)\n",
    "    return sorted(r, key = lambda x: (len([ i for i in list(str(x)) if int(i)%2 == 0]), x), reverse = True)\n",
    "f1(500)"
   ]
  },
  {
   "cell_type": "code",
   "execution_count": 6,
   "metadata": {},
   "outputs": [
    {
     "data": {
      "text/plain": [
       "[666, 887, 897]"
      ]
     },
     "execution_count": 6,
     "metadata": {},
     "output_type": "execute_result"
    },
    {
     "data": {
      "text/plain": [
       "666"
      ]
     },
     "execution_count": 6,
     "metadata": {},
     "output_type": "execute_result"
    }
   ],
   "source": [
    "#Sorted with multiple keys\n",
    "t1 = [887, 897, 666]\n",
    "sorted(t1, key = lambda x: (len([ i for i in list(str(x)) if int(i)%2 == 0]), x), reverse = True)\n",
    "max(t1, key = lambda x: (len([ i for i in list(str(x)) if int(i)%2 == 0])))"
   ]
  },
  {
   "cell_type": "code",
   "execution_count": null,
   "metadata": {
    "collapsed": true
   },
   "outputs": [],
   "source": [
    "#Another function for the isPrime function\n",
    "def mPrime(Number):\n",
    "    return 2 in [Number,2**Number%Number]"
   ]
  },
  {
   "cell_type": "code",
   "execution_count": 12,
   "metadata": {
    "collapsed": true
   },
   "outputs": [],
   "source": [
    "#Maybe because it created too many stack frames\n",
    "\n",
    "def f(n):\n",
    "    r = []\n",
    "    while n > 1:\n",
    "        n-=1\n",
    "        if 2 in [n, 2**n%n]:\n",
    "            r.append(n)\n",
    "    return max(r, key = lambda x: (len([ i for i in list(str(x)) if int(i)%2 == 0])))\n",
    "\n",
    "#It still timed out."
   ]
  }
 ],
 "metadata": {
  "kernelspec": {
   "display_name": "Python 3",
   "language": "python",
   "name": "python3"
  },
  "language_info": {
   "codemirror_mode": {
    "name": "ipython",
    "version": 3
   },
   "file_extension": ".py",
   "mimetype": "text/x-python",
   "name": "python",
   "nbconvert_exporter": "python",
   "pygments_lexer": "ipython3",
   "version": "3.6.0"
  }
 },
 "nbformat": 4,
 "nbformat_minor": 2
}
