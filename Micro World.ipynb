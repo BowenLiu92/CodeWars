{
 "cells": [
  {
   "cell_type": "code",
   "execution_count": 1,
   "metadata": {},
   "outputs": [],
   "source": [
    "from IPython.core.interactiveshell import InteractiveShell\n",
    "InteractiveShell.ast_node_interactivity = \"all\""
   ]
  },
  {
   "cell_type": "markdown",
   "metadata": {},
   "source": [
    "# Most Clever Answer on Codewars"
   ]
  },
  {
   "cell_type": "code",
   "execution_count": null,
   "metadata": {
    "collapsed": true
   },
   "outputs": [],
   "source": []
  },
  {
   "cell_type": "markdown",
   "metadata": {},
   "source": [
    "# My Wrestling Process"
   ]
  },
  {
   "cell_type": "code",
   "execution_count": 2,
   "metadata": {},
   "outputs": [],
   "source": [
    "def micro_world(bacteria, k):\n",
    "    bacteria = sorted(bacteria, reverse = True)\n",
    "    r = [bacteria[j] for i in range(len(bacteria)) for j in range(i+1, len(bacteria)) if bacteria[j] < bacteria[i] <= bacteria[j] + k]\n",
    "    return len([e for e in bacteria if e not in r])\n",
    "    "
   ]
  },
  {
   "cell_type": "code",
   "execution_count": 8,
   "metadata": {
    "scrolled": true
   },
   "outputs": [],
   "source": [
    "play1 = [101, 53, 42, 102, 101, 55, 54]\n",
    "play1 = sorted(play1, reverse = True)\n",
    "r = []\n",
    "k = 1\n",
    "for i in range(len(play1)):\n",
    "    for j in range(i+1, len(play1)):\n",
    "        if play1[j] < play1[i] <= play1[j] + k:\n",
    "            r.append(play1[j])\n",
    "        "
   ]
  },
  {
   "cell_type": "code",
   "execution_count": 9,
   "metadata": {
    "collapsed": true
   },
   "outputs": [],
   "source": [
    "#See if I can do it with list "
   ]
  },
  {
   "cell_type": "code",
   "execution_count": 10,
   "metadata": {},
   "outputs": [
    {
     "data": {
      "text/plain": [
       "[101, 101, 54, 53]"
      ]
     },
     "execution_count": 10,
     "metadata": {},
     "output_type": "execute_result"
    }
   ],
   "source": [
    "r = [play1[j] for i in range(len(play1)) for j in range(i+1, len(play1)) if play1[j] < play1[i] <= play1[j] + k]\n",
    "r"
   ]
  },
  {
   "cell_type": "code",
   "execution_count": 13,
   "metadata": {
    "scrolled": true
   },
   "outputs": [
    {
     "name": "stdout",
     "output_type": "stream",
     "text": [
      "0 102\n",
      "1 101\n",
      "2 101\n",
      "3 55\n",
      "4 54\n",
      "5 53\n",
      "6 42\n"
     ]
    },
    {
     "data": {
      "text/plain": [
       "[(0, 102), (1, 101), (2, 101), (3, 55), (4, 54), (5, 53), (6, 42)]"
      ]
     },
     "execution_count": 13,
     "metadata": {},
     "output_type": "execute_result"
    }
   ],
   "source": [
    "#My function timed out as it took too much time.\n",
    "\n",
    "#Any way to do it via dict or enumerate? \n",
    "\n",
    "for i, val in enumerate(play1):\n",
    "    print(i, val)\n",
    "    \n",
    "[(i, val) for i, val in enumerate(play1)]"
   ]
  },
  {
   "cell_type": "code",
   "execution_count": 18,
   "metadata": {},
   "outputs": [
    {
     "data": {
      "text/plain": [
       "[1, 2]"
      ]
     },
     "execution_count": 18,
     "metadata": {},
     "output_type": "execute_result"
    }
   ],
   "source": [
    "r = []\n",
    "r.extend([1, 2])\n",
    "r"
   ]
  },
  {
   "cell_type": "code",
   "execution_count": 12,
   "metadata": {
    "collapsed": true
   },
   "outputs": [],
   "source": [
    "def micro_world(bacteria, k):\n",
    "    enumerated, r = enumerate(sorted(bacteria, reverse = True)), []\n",
    "    for i, vali in enumerated:\n",
    "        for j, valj in enumberated:\n",
    "            if i != j and valj < vali <= valj + k:\n",
    "                r.append(valj)\n",
    "    return len([e for e in bacteria if e not in r])"
   ]
  },
  {
   "cell_type": "code",
   "execution_count": 40,
   "metadata": {
    "scrolled": false
   },
   "outputs": [
    {
     "name": "stdout",
     "output_type": "stream",
     "text": [
      "0 1\n",
      "0 2\n",
      "1 3\n",
      "1 4\n",
      "2 3\n",
      "2 4\n",
      "3 5\n",
      "4 5\n"
     ]
    },
    {
     "data": {
      "text/plain": [
       "1"
      ]
     },
     "execution_count": 40,
     "metadata": {},
     "output_type": "execute_result"
    }
   ],
   "source": [
    "def micro_world(bacteria, k):\n",
    "    enumerated, r = list(enumerate(sorted(bacteria, reverse = True))), []\n",
    "    for i, vali in enumerated:\n",
    "        for j, valj in enumerated:\n",
    "            if i != j and valj < vali <= valj + k:\n",
    "                r.append(valj)\n",
    "                print(i, j)\n",
    "    return len([e for e in bacteria if e not in r])\n",
    "\n",
    "micro_world([20, 15, 10, 15, 20, 25], 5)"
   ]
  },
  {
   "cell_type": "code",
   "execution_count": 39,
   "metadata": {},
   "outputs": [
    {
     "data": {
      "text/plain": [
       "[(0, 102), (1, 101), (2, 101), (3, 55), (4, 54), (5, 53), (6, 42)]"
      ]
     },
     "execution_count": 39,
     "metadata": {},
     "output_type": "execute_result"
    },
    {
     "name": "stdout",
     "output_type": "stream",
     "text": [
      "0 1 vali =  102 valj = 101\n",
      "0 2 vali =  102 valj = 101\n",
      "3 4 vali =  55 valj = 54\n",
      "4 5 vali =  54 valj = 53\n"
     ]
    }
   ],
   "source": [
    "test1 = [101, 53, 42, 102, 101, 55, 54]\n",
    "\n",
    "enumerated = list(enumerate(sorted(test1, reverse = True)))\n",
    "enumerated\n",
    "for i, vali in enumerated:\n",
    "        for j, valj in enumerated:\n",
    "            if i != j and valj < vali <= valj + 1:\n",
    "                print(i, j, 'vali = ',vali, 'valj =', valj)\n"
   ]
  },
  {
   "cell_type": "code",
   "execution_count": 54,
   "metadata": {
    "scrolled": true
   },
   "outputs": [
    {
     "data": {
      "text/plain": [
       "1"
      ]
     },
     "execution_count": 54,
     "metadata": {},
     "output_type": "execute_result"
    },
    {
     "name": "stdout",
     "output_type": "stream",
     "text": [
      "('e1', 1)\n",
      "('e2', 2)\n",
      "e1\n",
      "e2\n",
      "1\n",
      "2\n"
     ]
    },
    {
     "data": {
      "text/plain": [
       "{'e1': 1, 'e2': 2, 'e3': 3}"
      ]
     },
     "execution_count": 54,
     "metadata": {},
     "output_type": "execute_result"
    },
    {
     "data": {
      "text/plain": [
       "True"
      ]
     },
     "execution_count": 54,
     "metadata": {},
     "output_type": "execute_result"
    },
    {
     "data": {
      "text/plain": [
       "False"
      ]
     },
     "execution_count": 54,
     "metadata": {},
     "output_type": "execute_result"
    }
   ],
   "source": [
    "#The method avove timed out again. Now I will learn the dictionary way.\n",
    "\n",
    "#Let me review the knowledge of dictionaries a little bit.\n",
    "\n",
    "d1 = {'e1': 1, 'e2': 2}\n",
    "\n",
    "d1['e1']\n",
    "\n",
    "for i in d1.items():\n",
    "    print(i)\n",
    "for k in d1.keys():\n",
    "    print(k)\n",
    "for v in d1.values():\n",
    "    print(v)\n",
    "d1['e3'] = 3\n",
    "d1\n",
    "\n",
    "'e3' in d1\n",
    "3 in d1\n",
    "\n",
    "d1.get('e4')"
   ]
  },
  {
   "cell_type": "code",
   "execution_count": 56,
   "metadata": {},
   "outputs": [
    {
     "data": {
      "text/plain": [
       "3"
      ]
     },
     "execution_count": 56,
     "metadata": {},
     "output_type": "execute_result"
    }
   ],
   "source": [
    "# The get function\n",
    "\n",
    "d1.get('e3')"
   ]
  },
  {
   "cell_type": "code",
   "execution_count": null,
   "metadata": {
    "collapsed": true
   },
   "outputs": [],
   "source": [
    "test1 = [101, 53, 42, 102, 101, 55, 54]"
   ]
  },
  {
   "cell_type": "code",
   "execution_count": null,
   "metadata": {
    "collapsed": true
   },
   "outputs": [],
   "source": []
  }
 ],
 "metadata": {
  "kernelspec": {
   "display_name": "Python 3",
   "language": "python",
   "name": "python3"
  },
  "language_info": {
   "codemirror_mode": {
    "name": "ipython",
    "version": 3
   },
   "file_extension": ".py",
   "mimetype": "text/x-python",
   "name": "python",
   "nbconvert_exporter": "python",
   "pygments_lexer": "ipython3",
   "version": "3.6.8"
  }
 },
 "nbformat": 4,
 "nbformat_minor": 2
}
