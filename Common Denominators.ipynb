{
 "cells": [
  {
   "cell_type": "code",
   "execution_count": 1,
   "metadata": {},
   "outputs": [],
   "source": [
    "from IPython.core.interactiveshell import InteractiveShell\n",
    "InteractiveShell.ast_node_interactivity = \"all\""
   ]
  },
  {
   "cell_type": "markdown",
   "metadata": {},
   "source": [
    "# Best Solution on CodeWars"
   ]
  },
  {
   "cell_type": "code",
   "execution_count": 11,
   "metadata": {},
   "outputs": [],
   "source": [
    "import math\n",
    "import functools\n",
    "\n",
    "def convertFracts(lst):\n",
    "    lcm = lambda a, b : abs(a*b) // math.gcd(a, b)\n",
    "    tmp_list = list(map(lambda x : x[1] ,list(lst)))\n",
    "    lcm_num = functools.reduce(lcm,tmp_list)\n",
    "    return list(map(lambda x : [x[0] * lcm_num // x[1], lcm_num] , list(lst)))\n",
    "#Note: this code won't pass empty list test, but we can still learn things from the code"
   ]
  },
  {
   "cell_type": "code",
   "execution_count": 15,
   "metadata": {},
   "outputs": [],
   "source": [
    "#Step by step explanation for this solution\n",
    "def convertFracts(lst):\n",
    "    lcm = lambda a, b : abs(a*b) // math.gcd(a, b)\n",
    "    '''The step above is to create the formula to calculate the least common multiple '''\n",
    "    tmp_list = list(map(lambda x : x[1] ,list(lst)))\n",
    "    '''The step above is to use function map in order to extract the 2nd element of all the list elements of lst'''\n",
    "    lcm_num = functools.reduce(lcm,tmp_list)\n",
    "    '''The step above is to use function reduce to calculate the LCM of all the elements of the list generated from the previous \n",
    "    step'''\n",
    "    return list(map(lambda x : [x[0] * lcm_num // x[1], lcm_num] , lst))\n",
    "    '''The last step '''"
   ]
  },
  {
   "cell_type": "code",
   "execution_count": 19,
   "metadata": {},
   "outputs": [
    {
     "data": {
      "text/plain": [
       "[[7, 123], [5, 123], [3, 123]]"
      ]
     },
     "execution_count": 19,
     "metadata": {},
     "output_type": "execute_result"
    }
   ],
   "source": [
    "#I didn't know you can actually use any lambda function to generate list results. \n",
    "#Let's try!\n",
    "list(map(lambda x: [x[0] * 15//x[1], 123], a))\n",
    "\n",
    "#Conclusion: it worked, it works just like list comprehension but to me it's less intuitative. "
   ]
  },
  {
   "cell_type": "code",
   "execution_count": 3,
   "metadata": {},
   "outputs": [
    {
     "data": {
      "text/plain": [
       "[2, 3, 4]"
      ]
     },
     "execution_count": 3,
     "metadata": {},
     "output_type": "execute_result"
    }
   ],
   "source": [
    "#Trying to understand some of the clever solutions.\n",
    "a = [[1, 2], [1, 3], [1, 4]]\n",
    "tmp_list = list(map(lambda x : x[1] ,a))\n",
    "tmp_list"
   ]
  },
  {
   "cell_type": "code",
   "execution_count": 8,
   "metadata": {},
   "outputs": [
    {
     "data": {
      "text/plain": [
       "[10, 3, 4]"
      ]
     },
     "execution_count": 8,
     "metadata": {},
     "output_type": "execute_result"
    }
   ],
   "source": [
    "#How to use map\n",
    "a1 = [[10, 2], [1, 3], [1, 4]]\n",
    "list(map(max, a1))"
   ]
  },
  {
   "cell_type": "markdown",
   "metadata": {},
   "source": [
    "# My Working Progress"
   ]
  },
  {
   "cell_type": "code",
   "execution_count": 2,
   "metadata": {},
   "outputs": [
    {
     "data": {
      "text/plain": [
       "3"
      ]
     },
     "execution_count": 2,
     "metadata": {},
     "output_type": "execute_result"
    },
    {
     "data": {
      "text/plain": [
       "[2, 3, 4]"
      ]
     },
     "execution_count": 2,
     "metadata": {},
     "output_type": "execute_result"
    }
   ],
   "source": [
    "a = [[1, 2], [1, 3], [1, 4]]\n",
    "len(a)\n",
    "\n",
    "#Get all the 2nd element in the a list\n",
    "[e[1] for e in a]"
   ]
  },
  {
   "cell_type": "code",
   "execution_count": 4,
   "metadata": {},
   "outputs": [],
   "source": [
    "import numpy as np"
   ]
  },
  {
   "cell_type": "code",
   "execution_count": 5,
   "metadata": {},
   "outputs": [],
   "source": [
    "a = [[1, 2], [1, 3], [1, 4]]\n",
    "b = [e[1] for e in a]\n",
    "c = np.lcm.reduce(b)"
   ]
  },
  {
   "cell_type": "code",
   "execution_count": 6,
   "metadata": {},
   "outputs": [
    {
     "data": {
      "text/plain": [
       "12"
      ]
     },
     "execution_count": 6,
     "metadata": {},
     "output_type": "execute_result"
    }
   ],
   "source": [
    "c"
   ]
  },
  {
   "cell_type": "code",
   "execution_count": 16,
   "metadata": {},
   "outputs": [
    {
     "data": {
      "text/plain": [
       "[6, 4, 3]"
      ]
     },
     "execution_count": 16,
     "metadata": {},
     "output_type": "execute_result"
    },
    {
     "data": {
      "text/plain": [
       "[[2, 6, 100], [3, 4, 100], [4, 3, 100]]"
      ]
     },
     "execution_count": 16,
     "metadata": {},
     "output_type": "execute_result"
    }
   ],
   "source": [
    "d1 = [int(c/e[1]) for e in a]\n",
    "d1\n",
    "[[e1, e2, 100] for e1, e2 in zip(b, d1)]"
   ]
  },
  {
   "cell_type": "code",
   "execution_count": 6,
   "metadata": {},
   "outputs": [
    {
     "data": {
      "text/plain": [
       "10"
      ]
     },
     "execution_count": 6,
     "metadata": {},
     "output_type": "execute_result"
    }
   ],
   "source": [
    "import numpy as np\n",
    "np.lcm(2, 5)"
   ]
  },
  {
   "cell_type": "code",
   "execution_count": 14,
   "metadata": {},
   "outputs": [
    {
     "data": {
      "text/plain": [
       "[29, 42, 57]"
      ]
     },
     "execution_count": 14,
     "metadata": {},
     "output_type": "execute_result"
    }
   ],
   "source": [
    "list1 = [1, 2, 3]\n",
    "list2 = [4, 5, 6]\n",
    "list3 = [7, 8, 9]\n",
    "ziplay = list(zip(list1, list2, list3))\n",
    "[x + y*z for x, y, z in ziplay]"
   ]
  },
  {
   "cell_type": "code",
   "execution_count": 20,
   "metadata": {},
   "outputs": [],
   "source": [
    "import numpy as np\n",
    "def convertFracts(lst):\n",
    "    '''Point of the solution is first to get the lcm of the 2nd element of all the list elements'''\n",
    "    l1e2 = [e[1] for e in lst]\n",
    "    l1e1 = [e[0] for e in lst]\n",
    "    lcm = np.lcm.reduce(l1e2)\n",
    "    return [[int(lcm*e1/e2), lcm] for [e1, e2] in lst ]"
   ]
  },
  {
   "cell_type": "code",
   "execution_count": 35,
   "metadata": {},
   "outputs": [],
   "source": [
    "t2 = [[27115, 5262], [87546, 11111111], [43216, 255689]]"
   ]
  },
  {
   "cell_type": "code",
   "execution_count": 36,
   "metadata": {},
   "outputs": [
    {
     "data": {
      "text/plain": [
       "[[77033412951888080, 14949283383840498],\n",
       " [117787497858828, 14949283383840498],\n",
       " [2526695441399712, 14949283383840498]]"
      ]
     },
     "execution_count": 36,
     "metadata": {},
     "output_type": "execute_result"
    }
   ],
   "source": [
    "convertFracts(t2)"
   ]
  },
  {
   "cell_type": "code",
   "execution_count": 45,
   "metadata": {},
   "outputs": [
    {
     "data": {
      "text/plain": [
       "True"
      ]
     },
     "execution_count": 45,
     "metadata": {},
     "output_type": "execute_result"
    }
   ],
   "source": [
    "aa = [[], []]\n",
    "bool(aa)"
   ]
  },
  {
   "cell_type": "code",
   "execution_count": 29,
   "metadata": {},
   "outputs": [],
   "source": [
    "#CodeWars doesn't take the np.lcd\n",
    "#Using an alternative method\n",
    "import math\n",
    "def convertFracts(lst):\n",
    "    '''Point of the solution is first to get the lcm of the 2nd element of all the list elements'''\n",
    "    l1e2 = [e[1] for e in lst]\n",
    "    l1e1 = [e[0] for e in lst]\n",
    "    if not l1e2[0]:\n",
    "        return lst\n",
    "    lcm = l1e2[0]\n",
    "    for i in l1e2[1:]:\n",
    "        lcm = (i*lcm)//math.gcd(i, lcm)\n",
    "    return [[int(lcm*e1/e2), lcm] for [e1, e2] in lst ]"
   ]
  },
  {
   "cell_type": "code",
   "execution_count": 24,
   "metadata": {},
   "outputs": [
    {
     "data": {
      "text/plain": [
       "1"
      ]
     },
     "execution_count": 24,
     "metadata": {},
     "output_type": "execute_result"
    }
   ],
   "source": [
    "math.gcd(2, 3)"
   ]
  },
  {
   "cell_type": "code",
   "execution_count": 56,
   "metadata": {},
   "outputs": [
    {
     "name": "stdout",
     "output_type": "stream",
     "text": [
      "2\n",
      "3\n",
      "4\n",
      "[1, 2]\n",
      "[1, 3]\n",
      "[1, 4]\n",
      "2\n",
      "3\n"
     ]
    }
   ],
   "source": [
    "#Below is testing some of the code I saw in the solutions\n",
    "\n",
    "a = [[1, 2], [1, 3], [1, 4]]\n",
    "for _, d in a:\n",
    "    print(d)\n",
    "for e in a:\n",
    "    print(e)\n",
    "    \n",
    "#What if it's tuple?\n",
    "\n",
    "a = [(1,2), (2,3)]\n",
    "for v,b in a:\n",
    "    print(b)\n",
    "#Works the same."
   ]
  }
 ],
 "metadata": {
  "kernelspec": {
   "display_name": "Python 3",
   "language": "python",
   "name": "python3"
  },
  "language_info": {
   "codemirror_mode": {
    "name": "ipython",
    "version": 3
   },
   "file_extension": ".py",
   "mimetype": "text/x-python",
   "name": "python",
   "nbconvert_exporter": "python",
   "pygments_lexer": "ipython3",
   "version": "3.7.4"
  }
 },
 "nbformat": 4,
 "nbformat_minor": 2
}
