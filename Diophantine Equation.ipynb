{
 "cells": [
  {
   "cell_type": "markdown",
   "metadata": {},
   "source": [
    "# Best Solution on CodeWars"
   ]
  },
  {
   "cell_type": "markdown",
   "metadata": {},
   "source": [
    "# My Working Progress"
   ]
  },
  {
   "cell_type": "code",
   "execution_count": null,
   "metadata": {},
   "outputs": [],
   "source": [
    "#The most important thing to remember is that 2*x (max) is n+1\n",
    "#So we will loop down from there"
   ]
  },
  {
   "cell_type": "code",
   "execution_count": 2,
   "metadata": {},
   "outputs": [
    {
     "data": {
      "text/plain": [
       "True"
      ]
     },
     "execution_count": 2,
     "metadata": {},
     "output_type": "execute_result"
    }
   ],
   "source": [
    "(((45003**2 - 90005)**0.5)/2).is_integer()"
   ]
  },
  {
   "cell_type": "code",
   "execution_count": 36,
   "metadata": {},
   "outputs": [],
   "source": [
    "def sol_equa(n):\n",
    "    res = []\n",
    "    x = round((n + 1)/2)\n",
    "    while x >= n**0.5:\n",
    "        y = ((x**2 - n)**0.5)/2.0\n",
    "        if (y.is_integer() and y >= 0):\n",
    "            res.append([x, int(y)])\n",
    "        x -=1\n",
    "    return res"
   ]
  },
  {
   "cell_type": "code",
   "execution_count": 27,
   "metadata": {
    "scrolled": false
   },
   "outputs": [
    {
     "data": {
      "text/plain": [
       "12.0"
      ]
     },
     "execution_count": 27,
     "metadata": {},
     "output_type": "execute_result"
    }
   ],
   "source": [
    "3.5**2-4*0.25**2"
   ]
  },
  {
   "cell_type": "code",
   "execution_count": 40,
   "metadata": {},
   "outputs": [
    {
     "name": "stdout",
     "output_type": "stream",
     "text": [
      "89980 22494.75\n",
      "89981 22495.0\n",
      "89982 22495.25\n",
      "89983 22495.5\n",
      "89984 22495.75\n",
      "89985 22496.0\n",
      "89986 22496.25\n",
      "89987 22496.5\n",
      "89988 22496.75\n",
      "89989 22497.0\n",
      "89990 22497.25\n",
      "89991 22497.5\n",
      "89992 22497.75\n",
      "89993 22498.0\n",
      "89994 22498.25\n",
      "89995 22498.5\n",
      "89996 22498.75\n",
      "89997 22499.0\n",
      "89998 22499.25\n",
      "89999 22499.5\n",
      "90000 22499.75\n",
      "90001 22500.0\n",
      "90002 22500.25\n",
      "90003 22500.5\n",
      "90004 22500.75\n",
      "90005 22501.0\n"
     ]
    }
   ],
   "source": [
    "for i in range (89980, 90006):\n",
    "    print(i, (i - 1)/4)"
   ]
  },
  {
   "cell_type": "code",
   "execution_count": 43,
   "metadata": {},
   "outputs": [
    {
     "data": {
      "text/plain": [
       "True"
      ]
     },
     "execution_count": 43,
     "metadata": {},
     "output_type": "execute_result"
    }
   ],
   "source": [
    "((90005 - 1)/4.0).is_integer()"
   ]
  },
  {
   "cell_type": "code",
   "execution_count": 52,
   "metadata": {},
   "outputs": [
    {
     "data": {
      "text/plain": [
       "22501.0"
      ]
     },
     "execution_count": 52,
     "metadata": {},
     "output_type": "execute_result"
    }
   ],
   "source": [
    "(90005-1)/4\n"
   ]
  },
  {
   "cell_type": "code",
   "execution_count": 59,
   "metadata": {},
   "outputs": [
    {
     "data": {
      "text/plain": [
       "4"
      ]
     },
     "execution_count": 59,
     "metadata": {},
     "output_type": "execute_result"
    }
   ],
   "source": [
    "import math\n",
    "math.ceil(3.2)"
   ]
  },
  {
   "cell_type": "code",
   "execution_count": 68,
   "metadata": {},
   "outputs": [],
   "source": [
    "#And of course my first answer timed out. Now let's try to simplify this.\n",
    "def sol_equa(n):\n",
    "    res = []\n",
    "    for i in range(1, int(n**0.5)+1):\n",
    "        if n%i != 0:\n",
    "            continue\n",
    "        j = n/i\n",
    "        x = (i + j)/2.0\n",
    "        y = (j - i)/4.0\n",
    "        if x >= 0 and y >= 0 and x.is_integer() and y.is_integer():\n",
    "            res.append([x, y])\n",
    "    return sorted(res, reverse = True)\n"
   ]
  },
  {
   "cell_type": "code",
   "execution_count": 63,
   "metadata": {},
   "outputs": [
    {
     "name": "stdout",
     "output_type": "stream",
     "text": [
      "j\n",
      "a\n",
      "n\n",
      "g\n",
      "o\n"
     ]
    }
   ],
   "source": [
    "for letter in 'Django':    \n",
    "    if letter == 'D':\n",
    "        continue\n",
    "    print(letter)\n",
    "    "
   ]
  }
 ],
 "metadata": {
  "kernelspec": {
   "display_name": "Python 3",
   "language": "python",
   "name": "python3"
  },
  "language_info": {
   "codemirror_mode": {
    "name": "ipython",
    "version": 3
   },
   "file_extension": ".py",
   "mimetype": "text/x-python",
   "name": "python",
   "nbconvert_exporter": "python",
   "pygments_lexer": "ipython3",
   "version": "3.7.4"
  }
 },
 "nbformat": 4,
 "nbformat_minor": 2
}
