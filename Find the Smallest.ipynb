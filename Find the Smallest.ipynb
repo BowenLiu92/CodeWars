{
 "cells": [
  {
   "cell_type": "code",
   "execution_count": 5,
   "metadata": {
    "collapsed": true
   },
   "outputs": [],
   "source": [
    "from IPython.core.interactiveshell import InteractiveShell\n",
    "InteractiveShell.ast_node_interactivity = \"all\""
   ]
  },
  {
   "cell_type": "markdown",
   "metadata": {},
   "source": [
    "# Most Clever Answer on Codewars"
   ]
  },
  {
   "cell_type": "code",
   "execution_count": 2,
   "metadata": {
    "collapsed": true
   },
   "outputs": [],
   "source": [
    "def smallest(n):\n",
    "    s = list(str(n))\n",
    "    def swap(i, p):\n",
    "        t = s[:]\n",
    "        t.insert(i, t.pop(p))\n",
    "        return int(''.join(t))\n",
    "    return min([swap(i, p), p, i] for i in range(len(s)) for p in range(len(s)))"
   ]
  },
  {
   "cell_type": "code",
   "execution_count": 15,
   "metadata": {
    "collapsed": false
   },
   "outputs": [
    {
     "data": {
      "text/plain": [
       "True"
      ]
     },
     "execution_count": 15,
     "metadata": {},
     "output_type": "execute_result"
    },
    {
     "data": {
      "text/plain": [
       "[126235, 2, 0]"
      ]
     },
     "execution_count": 15,
     "metadata": {},
     "output_type": "execute_result"
    },
    {
     "data": {
      "text/plain": [
       "[126235, 0.5, 10000]"
      ]
     },
     "execution_count": 15,
     "metadata": {},
     "output_type": "execute_result"
    }
   ],
   "source": [
    "# Why does it work? \n",
    "\n",
    "#Biggest question for me, why does the return statement stand valid? \n",
    "\n",
    "t1 = []\n",
    "for p in range(len(str(261325))):\n",
    "    for i in range(len(str(261325))):\n",
    "        t1.append((p, i))\n",
    "\n",
    "\n",
    "t2 = [(p, i) for p in range(len(str(261325))) for i in range(len(str(261325)))]\n",
    "\n",
    "t1 == t2\n",
    "\n",
    "def smallest1(n):\n",
    "    s = list(str(n))\n",
    "    def swap(i, p):\n",
    "        t = s[:]\n",
    "        t.insert(i, t.pop(p))\n",
    "        return int(''.join(t))\n",
    "    return [[swap(i, p), p, i] for i in range(len(s)) for p in range(len(s))]\n",
    "\n",
    "min(smallest1(261235))\n",
    "\n",
    "min([126235, 2, 0], [126235, 1, 555], [126235, 0.5, 10000])"
   ]
  },
  {
   "cell_type": "markdown",
   "metadata": {},
   "source": [
    "# My Wrestling Process"
   ]
  },
  {
   "cell_type": "code",
   "execution_count": 18,
   "metadata": {
    "collapsed": false,
    "scrolled": true
   },
   "outputs": [
    {
     "name": "stdout",
     "output_type": "stream",
     "text": [
      "['2', '6', '1', '2', '3', '5']\n",
      "['6', '2', '1', '2', '3', '5']\n",
      "['6', '1', '2', '2', '3', '5']\n",
      "['6', '1', '2', '2', '3', '5']\n",
      "['6', '1', '2', '3', '2', '5']\n",
      "['6', '1', '2', '3', '5', '2']\n",
      "61235 2\n",
      "['6', '2', '1', '2', '3', '5']\n",
      "['2', '6', '1', '2', '3', '5']\n",
      "['2', '1', '6', '2', '3', '5']\n",
      "['2', '1', '2', '6', '3', '5']\n",
      "['2', '1', '2', '3', '6', '5']\n",
      "['2', '1', '2', '3', '5', '6']\n",
      "21235 6\n",
      "['1', '2', '6', '2', '3', '5']\n",
      "['2', '1', '6', '2', '3', '5']\n",
      "['2', '6', '1', '2', '3', '5']\n",
      "['2', '6', '2', '1', '3', '5']\n",
      "['2', '6', '2', '3', '1', '5']\n",
      "['2', '6', '2', '3', '5', '1']\n",
      "26235 1\n",
      "['2', '2', '6', '1', '3', '5']\n",
      "['2', '2', '6', '1', '3', '5']\n",
      "['2', '6', '2', '1', '3', '5']\n",
      "['2', '6', '1', '2', '3', '5']\n",
      "['2', '6', '1', '3', '2', '5']\n",
      "['2', '6', '1', '3', '5', '2']\n",
      "26135 2\n",
      "['3', '2', '6', '1', '2', '5']\n",
      "['2', '3', '6', '1', '2', '5']\n",
      "['2', '6', '3', '1', '2', '5']\n",
      "['2', '6', '1', '3', '2', '5']\n",
      "['2', '6', '1', '2', '3', '5']\n",
      "['2', '6', '1', '2', '5', '3']\n",
      "26125 3\n",
      "['5', '2', '6', '1', '2', '3']\n",
      "['2', '5', '6', '1', '2', '3']\n",
      "['2', '6', '5', '1', '2', '3']\n",
      "['2', '6', '1', '5', '2', '3']\n",
      "['2', '6', '1', '2', '5', '3']\n",
      "['2', '6', '1', '2', '3', '5']\n",
      "26123 5\n"
     ]
    },
    {
     "data": {
      "text/plain": [
       "126235"
      ]
     },
     "execution_count": 18,
     "metadata": {},
     "output_type": "execute_result"
    }
   ],
   "source": [
    "list1 = list(str(261235))\n",
    "\n",
    "#See how the insert works\n",
    "r = []\n",
    "for i in range(len(list1)):\n",
    "\n",
    "    #First create a copy\n",
    "    lc = list1[:]\n",
    "    del lc[i]\n",
    "    \n",
    "    for j in range(len(lc) + 1):\n",
    "        to_a = lc[:]\n",
    "        to_a.insert(j, list1[i])\n",
    "        print(to_a)\n",
    "        r.append(int(''.join(to_a)))\n",
    "    print(int(''.join(lc)), list1[i])\n",
    "min(r)"
   ]
  },
  {
   "cell_type": "code",
   "execution_count": 1,
   "metadata": {
    "collapsed": true
   },
   "outputs": [],
   "source": [
    "#My find result\n",
    "\n",
    "def smallest(n):\n",
    "    list1 = list(str(n))\n",
    "    r = []\n",
    "    for i in range(len(list1)):\n",
    "        lc = list1[:]\n",
    "        del lc[i]\n",
    "        for j in range(len(lc) + 1):\n",
    "            to_a = lc[:]\n",
    "            to_a.insert(j, list1[i])\n",
    "            r.append([int(''.join(to_a)), i, j])\n",
    "    return sorted(r, key = lambda x: (x[0], x[1], x[2]))[0]"
   ]
  }
 ],
 "metadata": {
  "kernelspec": {
   "display_name": "Python 3",
   "language": "python",
   "name": "python3"
  },
  "language_info": {
   "codemirror_mode": {
    "name": "ipython",
    "version": 3
   },
   "file_extension": ".py",
   "mimetype": "text/x-python",
   "name": "python",
   "nbconvert_exporter": "python",
   "pygments_lexer": "ipython3",
   "version": "3.6.0"
  }
 },
 "nbformat": 4,
 "nbformat_minor": 2
}
