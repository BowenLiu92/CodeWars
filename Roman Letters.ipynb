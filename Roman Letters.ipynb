{
 "cells": [
  {
   "cell_type": "code",
   "execution_count": 15,
   "metadata": {
    "collapsed": true
   },
   "outputs": [],
   "source": [
    "from IPython.core.interactiveshell import InteractiveShell\n",
    "InteractiveShell.ast_node_interactivity = \"all\""
   ]
  },
  {
   "cell_type": "markdown",
   "metadata": {},
   "source": [
    "# Best Practice Answer on Codewars"
   ]
  },
  {
   "cell_type": "code",
   "execution_count": null,
   "metadata": {
    "collapsed": true
   },
   "outputs": [],
   "source": [
    "def solution(roman):\n",
    "    dict = {\n",
    "        \"M\": 1000,\n",
    "        \"D\": 500,\n",
    "        \"C\": 100,\n",
    "        \"L\": 50,\n",
    "        \"X\": 10,\n",
    "        \"V\": 5,\n",
    "        \"I\": 1\n",
    "    }\n",
    "\n",
    "    last, total = 0, 0\n",
    "    for c in list(roman)[::-1]:\n",
    "        if last == 0:\n",
    "            total += dict[c]\n",
    "        elif last > dict[c]:\n",
    "            total -= dict[c]\n",
    "        else:\n",
    "            total += dict[c]\n",
    "        last = dict[c]\n",
    "    return total"
   ]
  },
  {
   "cell_type": "markdown",
   "metadata": {},
   "source": [
    "# Most Clever Answers on Codewars"
   ]
  },
  {
   "cell_type": "code",
   "execution_count": 2,
   "metadata": {
    "collapsed": true
   },
   "outputs": [],
   "source": [
    "def solution(roman):\n",
    "    d={'I':1, 'V':5 ,'X':10, 'L':50 ,'C':100, 'D':500,'M':1000}\n",
    "    \n",
    "    return reduce(lambda x,y: x+y if x>=y else y-x , (d[c] for c in roman))"
   ]
  },
  {
   "cell_type": "code",
   "execution_count": 35,
   "metadata": {
    "collapsed": false
   },
   "outputs": [
    {
     "data": {
      "text/plain": [
       "21"
      ]
     },
     "execution_count": 35,
     "metadata": {},
     "output_type": "execute_result"
    },
    {
     "data": {
      "text/plain": [
       "21"
      ]
     },
     "execution_count": 35,
     "metadata": {},
     "output_type": "execute_result"
    },
    {
     "data": {
      "text/plain": [
       "2210"
      ]
     },
     "execution_count": 35,
     "metadata": {},
     "output_type": "execute_result"
    },
    {
     "data": {
      "text/plain": [
       "1666"
      ]
     },
     "execution_count": 35,
     "metadata": {},
     "output_type": "execute_result"
    }
   ],
   "source": [
    "solution(\"XXI\")\n",
    "solution(\"XIX\")\n",
    "solution(\"MCMXC\")\n",
    "solution(\"MDCLXVI\")\n",
    "#This function doesn't seem to actually work."
   ]
  },
  {
   "cell_type": "code",
   "execution_count": 10,
   "metadata": {
    "collapsed": false
   },
   "outputs": [
    {
     "data": {
      "text/plain": [
       "20"
      ]
     },
     "execution_count": 10,
     "metadata": {},
     "output_type": "execute_result"
    }
   ],
   "source": [
    "#I want to see what function reduce does\n",
    "from functools import reduce\n",
    "\n",
    "product = reduce((lambda x, y: x + y ), [1, 1, 2, 3, 5, 8])\n",
    "product"
   ]
  },
  {
   "cell_type": "code",
   "execution_count": 21,
   "metadata": {
    "collapsed": false
   },
   "outputs": [
    {
     "data": {
      "text/plain": [
       "500"
      ]
     },
     "execution_count": 21,
     "metadata": {},
     "output_type": "execute_result"
    },
    {
     "data": {
      "text/plain": [
       "500"
      ]
     },
     "execution_count": 21,
     "metadata": {},
     "output_type": "execute_result"
    }
   ],
   "source": [
    "#Play around with reduce\n",
    "PA = [100, 200, 300, 200, 500]\n",
    "\n",
    "reduce((lambda x, y: y - x ), PA)\n",
    "reduce((lambda x, y: x + y if x > y else y - x ), PA)\n"
   ]
  },
  {
   "cell_type": "code",
   "execution_count": 31,
   "metadata": {
    "collapsed": false
   },
   "outputs": [],
   "source": [
    "#I want to see why it doesn't work\n",
    "def testreduce(x, y):\n",
    "    if x > y:\n",
    "        print('x=', x, 'y=', y,'This Step Result', x+y)\n",
    "        return x + y\n",
    "    print('x=', x, 'y=', y, 'This Step Result', x+y)\n",
    "    return y - x"
   ]
  },
  {
   "cell_type": "code",
   "execution_count": 32,
   "metadata": {
    "collapsed": false
   },
   "outputs": [
    {
     "name": "stdout",
     "output_type": "stream",
     "text": [
      "x= 400 y= 250 This Step Result 650\n"
     ]
    },
    {
     "data": {
      "text/plain": [
       "650"
      ]
     },
     "execution_count": 32,
     "metadata": {},
     "output_type": "execute_result"
    }
   ],
   "source": [
    "testreduce(400, 250)"
   ]
  },
  {
   "cell_type": "code",
   "execution_count": 34,
   "metadata": {
    "collapsed": false
   },
   "outputs": [
    {
     "data": {
      "text/plain": [
       "[100, 200, 300, 200, 500]"
      ]
     },
     "execution_count": 34,
     "metadata": {},
     "output_type": "execute_result"
    }
   ],
   "source": [
    "PA"
   ]
  },
  {
   "cell_type": "code",
   "execution_count": 33,
   "metadata": {
    "collapsed": false,
    "scrolled": true
   },
   "outputs": [
    {
     "name": "stdout",
     "output_type": "stream",
     "text": [
      "x= 100 y= 200 This Step Result 300\n",
      "x= 100 y= 300 This Step Result 400\n",
      "x= 200 y= 200 This Step Result 400\n",
      "x= 0 y= 500 This Step Result 500\n"
     ]
    },
    {
     "data": {
      "text/plain": [
       "500"
      ]
     },
     "execution_count": 33,
     "metadata": {},
     "output_type": "execute_result"
    }
   ],
   "source": [
    "reduce(testreduce, PA)"
   ]
  },
  {
   "cell_type": "code",
   "execution_count": 36,
   "metadata": {
    "collapsed": true
   },
   "outputs": [],
   "source": [
    "# Now I know why that method doesn't work, but I learned how to use reduce haha"
   ]
  },
  {
   "cell_type": "markdown",
   "metadata": {},
   "source": [
    "# My Solution"
   ]
  },
  {
   "cell_type": "code",
   "execution_count": 2,
   "metadata": {
    "collapsed": false,
    "scrolled": true
   },
   "outputs": [
    {
     "data": {
      "text/plain": [
       "50"
      ]
     },
     "execution_count": 2,
     "metadata": {},
     "output_type": "execute_result"
    }
   ],
   "source": [
    "RMD = {'I':1, 'V':5, 'X':10, 'L':50, 'C':100, 'D':500, 'M': 1000}\n",
    "RMD['L']"
   ]
  },
  {
   "cell_type": "code",
   "execution_count": 13,
   "metadata": {
    "collapsed": true
   },
   "outputs": [],
   "source": [
    "def solution(Roman):\n",
    "    RMD = {'I':1, 'V':5, 'X':10, 'L':50, 'C':100, 'D':500, 'M': 1000}\n",
    "    RSum = 0\n",
    "    for i in range(len(Roman) - 1):\n",
    "        if RMD[Roman[i]] >= RMD[Roman[i+1]]:\n",
    "            temp = RMD[Roman[i]]\n",
    "            RSum += temp\n",
    "        else:\n",
    "            temp = -RMD[Roman[i]]\n",
    "            RSum += temp\n",
    "    return (RSum + RMD[Roman[-1]])"
   ]
  },
  {
   "cell_type": "code",
   "execution_count": 15,
   "metadata": {
    "collapsed": false
   },
   "outputs": [
    {
     "data": {
      "text/plain": [
       "21"
      ]
     },
     "execution_count": 15,
     "metadata": {},
     "output_type": "execute_result"
    },
    {
     "data": {
      "text/plain": [
       "1990"
      ]
     },
     "execution_count": 15,
     "metadata": {},
     "output_type": "execute_result"
    },
    {
     "data": {
      "text/plain": [
       "1666"
      ]
     },
     "execution_count": 15,
     "metadata": {},
     "output_type": "execute_result"
    }
   ],
   "source": [
    "solution(\"XXI\")\n",
    "solution(\"MCMXC\")\n",
    "solution(\"MDCLXVI\")"
   ]
  },
  {
   "cell_type": "code",
   "execution_count": 9,
   "metadata": {
    "collapsed": true
   },
   "outputs": [],
   "source": [
    "#Test\n",
    "def solution1(Roman):\n",
    "    RMD = {'I':1, 'V':5, 'X':10, 'L':50, 'C':100, 'D':500, 'M': 1000}\n",
    "    RSum = 0\n",
    "    for i in range(len(Roman) - 1):\n",
    "        if RMD[Roman[i]] >= RMD[Roman[i+1]]:\n",
    "            temp = RMD[Roman[i]]\n",
    "            RSum += temp\n",
    "            print(temp, RSum)\n",
    "        else:\n",
    "            temp = -RMD[Roman[i]]\n",
    "            RSum += temp\n",
    "            print(temp, RSum)\n",
    "    return RSum"
   ]
  },
  {
   "cell_type": "code",
   "execution_count": 10,
   "metadata": {
    "collapsed": false
   },
   "outputs": [
    {
     "name": "stdout",
     "output_type": "stream",
     "text": [
      "1000 1000\n",
      "-100 900\n",
      "1000 1900\n",
      "-10 1890\n"
     ]
    },
    {
     "data": {
      "text/plain": [
       "1890"
      ]
     },
     "execution_count": 10,
     "metadata": {},
     "output_type": "execute_result"
    }
   ],
   "source": [
    "solution1('MCMXC')"
   ]
  },
  {
   "cell_type": "code",
   "execution_count": 11,
   "metadata": {
    "collapsed": false
   },
   "outputs": [
    {
     "name": "stdout",
     "output_type": "stream",
     "text": [
      "1000 1000\n",
      "1000 2000\n",
      "5 2005\n",
      "1 2006\n",
      "1 2007\n"
     ]
    },
    {
     "data": {
      "text/plain": [
       "2007"
      ]
     },
     "execution_count": 11,
     "metadata": {},
     "output_type": "execute_result"
    }
   ],
   "source": [
    "solution1('MMVIII')"
   ]
  },
  {
   "cell_type": "code",
   "execution_count": 5,
   "metadata": {
    "collapsed": false
   },
   "outputs": [
    {
     "data": {
      "text/plain": [
       "range(0, 5)"
      ]
     },
     "execution_count": 5,
     "metadata": {},
     "output_type": "execute_result"
    }
   ],
   "source": [
    "range(len('MCMXC'))"
   ]
  },
  {
   "cell_type": "code",
   "execution_count": 4,
   "metadata": {
    "collapsed": false
   },
   "outputs": [
    {
     "name": "stdout",
     "output_type": "stream",
     "text": [
      "1000\n",
      "100\n",
      "50\n",
      "10\n"
     ]
    }
   ],
   "source": [
    "for i in 'MCLX':\n",
    "    print(RMD[i])"
   ]
  },
  {
   "cell_type": "code",
   "execution_count": null,
   "metadata": {
    "collapsed": true
   },
   "outputs": [],
   "source": []
  }
 ],
 "metadata": {
  "kernelspec": {
   "display_name": "Python 3",
   "language": "python",
   "name": "python3"
  },
  "language_info": {
   "codemirror_mode": {
    "name": "ipython",
    "version": 3
   },
   "file_extension": ".py",
   "mimetype": "text/x-python",
   "name": "python",
   "nbconvert_exporter": "python",
   "pygments_lexer": "ipython3",
   "version": "3.6.0"
  }
 },
 "nbformat": 4,
 "nbformat_minor": 2
}
